{
 "cells": [
  {
   "cell_type": "markdown",
   "metadata": {},
   "source": [
    "# Importar libreria requeridas"
   ]
  },
  {
   "cell_type": "code",
   "execution_count": 48,
   "metadata": {
    "_cell_guid": "b1076dfc-b9ad-4769-8c92-a6c4dae69d19",
    "_uuid": "8f2839f25d086af736a60e9eeb907d3b93b6e0e5",
    "execution": {
     "iopub.execute_input": "2022-10-26T19:00:23.039279Z",
     "iopub.status.busy": "2022-10-26T19:00:23.037978Z",
     "iopub.status.idle": "2022-10-26T19:00:25.909485Z",
     "shell.execute_reply": "2022-10-26T19:00:25.908251Z",
     "shell.execute_reply.started": "2022-10-26T19:00:23.039153Z"
    }
   },
   "outputs": [
    {
     "name": "stderr",
     "output_type": "stream",
     "text": [
      "[nltk_data] Downloading package omw-1.4 to\n",
      "[nltk_data]     C:\\Users\\pdega\\AppData\\Roaming\\nltk_data...\n",
      "[nltk_data]   Package omw-1.4 is already up-to-date!\n",
      "[nltk_data] Downloading package stopwords to\n",
      "[nltk_data]     C:\\Users\\pdega\\AppData\\Roaming\\nltk_data...\n",
      "[nltk_data]   Package stopwords is already up-to-date!\n"
     ]
    }
   ],
   "source": [
    "import numpy as np # linear algebra\n",
    "import pandas as pd # data processing, CSV file I/O (e.g. pd.read_csv)\n",
    "\n",
    "# NLTK \n",
    "import nltk\n",
    "from nltk.tokenize import wordpunct_tokenize, word_tokenize\n",
    "from nltk.stem import WordNetLemmatizer\n",
    "from nltk.corpus import stopwords\n",
    "\n",
    "#nltk.download()\n",
    "nltk.download('omw-1.4')\n",
    "nltk.download('stopwords')\n",
    "\n",
    "# data visual\n",
    "import matplotlib.pyplot as plt\n",
    "import seaborn as sns\n",
    "from wordcloud import WordCloud\n",
    "\n",
    "# string proccessing\n",
    "import re\n",
    "import string\n"
   ]
  },
  {
   "cell_type": "code",
   "execution_count": 49,
   "metadata": {
    "execution": {
     "iopub.execute_input": "2022-10-26T19:00:25.911656Z",
     "iopub.status.busy": "2022-10-26T19:00:25.911258Z",
     "iopub.status.idle": "2022-10-26T19:00:26.007996Z",
     "shell.execute_reply": "2022-10-26T19:00:26.006589Z",
     "shell.execute_reply.started": "2022-10-26T19:00:25.911625Z"
    }
   },
   "outputs": [
    {
     "data": {
      "text/html": [
       "<div>\n",
       "<style scoped>\n",
       "    .dataframe tbody tr th:only-of-type {\n",
       "        vertical-align: middle;\n",
       "    }\n",
       "\n",
       "    .dataframe tbody tr th {\n",
       "        vertical-align: top;\n",
       "    }\n",
       "\n",
       "    .dataframe thead th {\n",
       "        text-align: right;\n",
       "    }\n",
       "</style>\n",
       "<table border=\"1\" class=\"dataframe\">\n",
       "  <thead>\n",
       "    <tr style=\"text-align: right;\">\n",
       "      <th></th>\n",
       "      <th>Text</th>\n",
       "      <th>IsToxic</th>\n",
       "    </tr>\n",
       "  </thead>\n",
       "  <tbody>\n",
       "    <tr>\n",
       "      <th>0</th>\n",
       "      <td>people step case nt people situation    lump m...</td>\n",
       "      <td>False</td>\n",
       "    </tr>\n",
       "    <tr>\n",
       "      <th>1</th>\n",
       "      <td>Law enforcement trained shoot apprehend   trai...</td>\n",
       "      <td>True</td>\n",
       "    </tr>\n",
       "    <tr>\n",
       "      <th>2</th>\n",
       "      <td>nt reckon black lives matter banners held whit...</td>\n",
       "      <td>True</td>\n",
       "    </tr>\n",
       "    <tr>\n",
       "      <th>3</th>\n",
       "      <td>large number people like police officers calle...</td>\n",
       "      <td>False</td>\n",
       "    </tr>\n",
       "    <tr>\n",
       "      <th>4</th>\n",
       "      <td>Arab dude absolutely right shot   extra time S...</td>\n",
       "      <td>False</td>\n",
       "    </tr>\n",
       "  </tbody>\n",
       "</table>\n",
       "</div>"
      ],
      "text/plain": [
       "                                                Text  IsToxic\n",
       "0  people step case nt people situation    lump m...    False\n",
       "1  Law enforcement trained shoot apprehend   trai...     True\n",
       "2  nt reckon black lives matter banners held whit...     True\n",
       "3  large number people like police officers calle...    False\n",
       "4  Arab dude absolutely right shot   extra time S...    False"
      ]
     },
     "execution_count": 49,
     "metadata": {},
     "output_type": "execute_result"
    }
   ],
   "source": [
    "df = pd.read_csv('../EDA/comentarios_sin_emojis.csv')\n",
    "df.head()"
   ]
  },
  {
   "cell_type": "markdown",
   "metadata": {},
   "source": [
    "# Normalización y limpieza"
   ]
  },
  {
   "cell_type": "markdown",
   "metadata": {},
   "source": [
    "<h5>Se realiza la limpieza y normalización de los comentarios de la columna Text en las siguientes fases:</h5>\n",
    "<ol>\n",
    "    <li><b>Eliminación de las stopwords:</b> con la clase stopwords de la libreria nltk: Las palabras vacías o stopwords son palabras en cualquier idioma o corpus que ocurren con frecuencia. Nno aportan ninguna información adicional o valiosa al texto que las contiene. Palabras como a, they, the, is, an, etc. generalmente se consideran palabras vacías.</li>\n",
    "    <li><b>Eliminación de carácteres pocos significativos:</b> Con metodo sub de la clase re(proporciona operaciones de coincidencia de expresiones regulares).El método sub retorna la cadena obtenida reemplazando las ocurrencias no superpuestas del pattern («patrón») pasado en el primer parametro en la string (tercer parametro) por el reemplazo indicado en el segundo parametro.</li>\n",
    "      <li><b>Lematización:</b> Con metodo lemmatize de la clase WordLemmatizer de la libreria nltk.La lematización es un proceso lingüístico que consiste en, dada una forma flexionada, hallar el lema correspondiente. El lema es la forma que por convenio se acepta como representante de todas las formas flexionadas de una misma palabra. Es decir, el lema de una palabra es la palabra que nos encontraríamos como entrada en un diccionario tradicional: singular para sustantivos, masculino singular para adjetivos, infinitivo para verbos.</li>\n",
    "     <li><b>Tokenización:</b> Con metodo wordtokenizer de la libreria nltk.La tokenización consiste en dividir un texto en entidades más pequeñas llamadas tokens.</li>\n",
    "         <li><b>Normalización:</b> estandarización de las palabras de los comentarios.En este caso se convierten todas las palabras a minúsculas</li>\n",
    "    \n",
    "</ol>"
   ]
  },
  {
   "cell_type": "markdown",
   "metadata": {},
   "source": [
    "### Stopwords"
   ]
  },
  {
   "cell_type": "code",
   "execution_count": 50,
   "metadata": {
    "execution": {
     "iopub.execute_input": "2022-10-26T19:00:26.617738Z",
     "iopub.status.busy": "2022-10-26T19:00:26.61712Z",
     "iopub.status.idle": "2022-10-26T19:00:26.6251Z",
     "shell.execute_reply": "2022-10-26T19:00:26.623852Z",
     "shell.execute_reply.started": "2022-10-26T19:00:26.617704Z"
    }
   },
   "outputs": [],
   "source": [
    "english_stopwords = stopwords.words('english')\n",
    "english_stopwords.append('nt')\n",
    "# Resta de conjuntos : stopwords sin los elementos del segungo conjunto set\n",
    "stopwords = set(english_stopwords) - set(['i', 'he', 'she', 'you', 'me', 'we', 'us',\n",
    "                                                   'this', 'them', 'that', 'those', 'her', 'his'])"
   ]
  },
  {
   "cell_type": "markdown",
   "metadata": {},
   "source": [
    "### Lematizacion"
   ]
  },
  {
   "cell_type": "code",
   "execution_count": 51,
   "metadata": {
    "execution": {
     "iopub.execute_input": "2022-10-26T19:00:26.62737Z",
     "iopub.status.busy": "2022-10-26T19:00:26.626482Z",
     "iopub.status.idle": "2022-10-26T19:00:26.633502Z",
     "shell.execute_reply": "2022-10-26T19:00:26.632642Z",
     "shell.execute_reply.started": "2022-10-26T19:00:26.627337Z"
    }
   },
   "outputs": [],
   "source": [
    "wnl = WordNetLemmatizer()"
   ]
  },
  {
   "cell_type": "markdown",
   "metadata": {},
   "source": [
    "#### Metodo lemmatize() de la clase WordNetLemmatizer de la librería NLTK\n",
    "\n",
    "Recibe 2 parametros: texto a lemmatizar y pos.\n",
    "El parámetro pos es la etiqueta de la parte del discurso a lematizar.\n",
    "Las opciones válidas son `\"n\"` para sustantivos, `\"v\"` para verbos, `\"a\"` para adjetivos, `\"r\"` para adverbios y `\"s\"` para adjetivos satélite."
   ]
  },
  {
   "cell_type": "code",
   "execution_count": 52,
   "metadata": {
    "execution": {
     "iopub.execute_input": "2022-10-26T19:00:26.635766Z",
     "iopub.status.busy": "2022-10-26T19:00:26.635148Z",
     "iopub.status.idle": "2022-10-26T19:00:26.645294Z",
     "shell.execute_reply": "2022-10-26T19:00:26.6443Z",
     "shell.execute_reply.started": "2022-10-26T19:00:26.635733Z"
    }
   },
   "outputs": [],
   "source": [
    "def lematiza_nombres(words):\n",
    "    a = []\n",
    "    for token in words:\n",
    "        lemmetized_word = wnl.lemmatize(token)\n",
    "        a.append(lemmetized_word)\n",
    "    return a\n",
    "\n",
    "def lematiza_verbos(words):\n",
    "    a = []\n",
    "    for token in words:\n",
    "        lemmetized_word = wnl.lemmatize(token, pos='v')\n",
    "        a.append(lemmetized_word)\n",
    "    return a\n",
    "\n",
    "def lematiza_adjetivos(words):\n",
    "    a = []\n",
    "    for token in words:\n",
    "        lemmetized_word = wnl.lemmatize(token,pos='a')\n",
    "        a.append(lemmetized_word)\n",
    "    return a\n",
    "\n",
    "def lematiza_adverbios(words):\n",
    "    a = []\n",
    "    for token in words:\n",
    "        lemmetized_word = wnl.lemmatize(token, pos='r')\n",
    "        a.append(lemmetized_word)\n",
    "    return a\n",
    "\n",
    "def lematiza_adj_satelites(words):\n",
    "    a = []\n",
    "    for token in words:\n",
    "        lemmetized_word = wnl.lemmatize(token,pos='s')\n",
    "        a.append(lemmetized_word)\n",
    "    return a"
   ]
  },
  {
   "cell_type": "markdown",
   "metadata": {},
   "source": [
    "### Normalización --> Eliminación de caracteres poco significativos y convertir a minúsculas los comentarios"
   ]
  },
  {
   "cell_type": "code",
   "execution_count": 53,
   "metadata": {
    "execution": {
     "iopub.execute_input": "2022-10-26T19:00:26.647403Z",
     "iopub.status.busy": "2022-10-26T19:00:26.646779Z",
     "iopub.status.idle": "2022-10-26T19:00:26.657269Z",
     "shell.execute_reply": "2022-10-26T19:00:26.656136Z",
     "shell.execute_reply.started": "2022-10-26T19:00:26.647368Z"
    }
   },
   "outputs": [],
   "source": [
    "def eliminar_caracteres(text):\n",
    "    text = re.sub(r'[^\\w\\s]', '', text)\n",
    "    text = re.sub(r'#', '', text)\n",
    "    text = re.sub(r'@[A-Za-z0-9]+', '', text)\n",
    "    text = re.sub('(\\\\\\\\u([a-z]|[0-9])+)', ' ', text)\n",
    "    text = re.sub(r'https|http?:\\/\\/\\S+', '', text)\n",
    "    return text\n"
   ]
  },
  {
   "cell_type": "code",
   "execution_count": 55,
   "metadata": {},
   "outputs": [],
   "source": [
    "def minusculas(text):\n",
    "    text = text.lower()\n",
    "    return text"
   ]
  },
  {
   "cell_type": "code",
   "execution_count": 54,
   "metadata": {
    "execution": {
     "iopub.execute_input": "2022-10-26T19:00:26.659724Z",
     "iopub.status.busy": "2022-10-26T19:00:26.659102Z",
     "iopub.status.idle": "2022-10-26T19:00:26.671344Z",
     "shell.execute_reply": "2022-10-26T19:00:26.670212Z",
     "shell.execute_reply.started": "2022-10-26T19:00:26.659689Z"
    }
   },
   "outputs": [],
   "source": [
    "# Convierte lista de strings en una cadena de strings\n",
    "def list_to_strs(text):\n",
    "    return ' '.join(text)\n"
   ]
  },
  {
   "cell_type": "code",
   "execution_count": 56,
   "metadata": {
    "execution": {
     "iopub.execute_input": "2022-10-26T19:00:26.678066Z",
     "iopub.status.busy": "2022-10-26T19:00:26.677464Z",
     "iopub.status.idle": "2022-10-26T19:00:36.778371Z",
     "shell.execute_reply": "2022-10-26T19:00:36.777226Z",
     "shell.execute_reply.started": "2022-10-26T19:00:26.678021Z"
    }
   },
   "outputs": [],
   "source": [
    "# Normalizacion y limpieza \n",
    "df['Text'] = df['Text'].apply(lambda x: ' '.join([word for word in x.split() if word not in (stopwords)]))\n",
    "df['Text'] = df['Text'].apply(eliminar_caracteres)\n",
    "df['Text'] = df['Text'].apply(minusculas)\n",
    "# Tokenización y lematización\n",
    "df['Text'] = df['Text'].apply(word_tokenize)\n",
    "df['Text'] = df['Text'].apply(lematiza_nombres)\n",
    "df['Text'] = df['Text'].apply(lematiza_verbos)\n",
    "df['Text'] = df['Text'].apply(lematiza_adjetivos)\n",
    "df['Text'] = df['Text'].apply(lematiza_adverbios)\n",
    "df['Text'] = df['Text'].apply(lematiza_adj_satelites)\n",
    "df['Text'] = df['Text'].apply(list_to_strs)"
   ]
  },
  {
   "cell_type": "code",
   "execution_count": 57,
   "metadata": {
    "execution": {
     "iopub.execute_input": "2022-10-26T19:00:36.779899Z",
     "iopub.status.busy": "2022-10-26T19:00:36.779587Z",
     "iopub.status.idle": "2022-10-26T19:00:36.794909Z",
     "shell.execute_reply": "2022-10-26T19:00:36.793718Z",
     "shell.execute_reply.started": "2022-10-26T19:00:36.779872Z"
    }
   },
   "outputs": [
    {
     "name": "stdout",
     "output_type": "stream",
     "text": [
      "0      people step case people situation lump mess ma...\n",
      "1      law enforcement train shoot apprehend train sh...\n",
      "2      reckon black life matter banner hold white cun...\n",
      "3      large number people like police officer call c...\n",
      "4      arab dude absolutely right shoot extra time sh...\n",
      "                             ...                        \n",
      "994                       remember send national defence\n",
      "995    stats represent problem race bait attitude cri...\n",
      "996                   quote mother wow hit hard accurate\n",
      "997                                         video racist\n",
      "998                              god narrator annoy lisp\n",
      "Name: Text, Length: 999, dtype: object\n"
     ]
    }
   ],
   "source": [
    "df['Text']"
   ]
  },
  {
   "cell_type": "markdown",
   "metadata": {},
   "source": [
    "##  Vectorización de palabras"
   ]
  },
  {
   "cell_type": "code",
   "execution_count": 58,
   "metadata": {
    "execution": {
     "iopub.execute_input": "2022-10-26T19:00:37.073413Z",
     "iopub.status.busy": "2022-10-26T19:00:37.072958Z",
     "iopub.status.idle": "2022-10-26T19:00:37.393974Z",
     "shell.execute_reply": "2022-10-26T19:00:37.392895Z",
     "shell.execute_reply.started": "2022-10-26T19:00:37.07337Z"
    }
   },
   "outputs": [],
   "source": [
    "#sklearn\n",
    "from sklearn.model_selection import train_test_split\n",
    "from sklearn import preprocessing\n",
    "from sklearn.utils import shuffle\n",
    "from sklearn.feature_extraction.text import CountVectorizer,TfidfTransformer\n",
    "from sklearn.svm import SVC\n",
    "from sklearn.pipeline import Pipeline\n",
    "from sklearn import metrics\n",
    "from sklearn.linear_model import LogisticRegression\n",
    "\n",
    "from catboost import CatBoostClassifier\n",
    "from xgboost import XGBClassifier"
   ]
  },
  {
   "cell_type": "markdown",
   "metadata": {},
   "source": [
    "### Mezcla aleatoria de los registros del dataframe"
   ]
  },
  {
   "cell_type": "code",
   "execution_count": 59,
   "metadata": {
    "execution": {
     "iopub.execute_input": "2022-10-26T19:00:37.395782Z",
     "iopub.status.busy": "2022-10-26T19:00:37.395454Z",
     "iopub.status.idle": "2022-10-26T19:00:37.413685Z",
     "shell.execute_reply": "2022-10-26T19:00:37.412876Z",
     "shell.execute_reply.started": "2022-10-26T19:00:37.395752Z"
    }
   },
   "outputs": [
    {
     "data": {
      "text/html": [
       "<div>\n",
       "<style scoped>\n",
       "    .dataframe tbody tr th:only-of-type {\n",
       "        vertical-align: middle;\n",
       "    }\n",
       "\n",
       "    .dataframe tbody tr th {\n",
       "        vertical-align: top;\n",
       "    }\n",
       "\n",
       "    .dataframe thead th {\n",
       "        text-align: right;\n",
       "    }\n",
       "</style>\n",
       "<table border=\"1\" class=\"dataframe\">\n",
       "  <thead>\n",
       "    <tr style=\"text-align: right;\">\n",
       "      <th></th>\n",
       "      <th>Text</th>\n",
       "      <th>IsToxic</th>\n",
       "    </tr>\n",
       "  </thead>\n",
       "  <tbody>\n",
       "    <tr>\n",
       "      <th>453</th>\n",
       "      <td>good job determine occur brown kill occur simp...</td>\n",
       "      <td>False</td>\n",
       "    </tr>\n",
       "    <tr>\n",
       "      <th>793</th>\n",
       "      <td>awesome job peggy thank tell truth westandwith...</td>\n",
       "      <td>False</td>\n",
       "    </tr>\n",
       "    <tr>\n",
       "      <th>209</th>\n",
       "      <td>come read racist comment lol</td>\n",
       "      <td>False</td>\n",
       "    </tr>\n",
       "    <tr>\n",
       "      <th>309</th>\n",
       "      <td>major difference zimmerman case shooter zimmer...</td>\n",
       "      <td>False</td>\n",
       "    </tr>\n",
       "    <tr>\n",
       "      <th>740</th>\n",
       "      <td>nigga love victim situation separate black peo...</td>\n",
       "      <td>True</td>\n",
       "    </tr>\n",
       "    <tr>\n",
       "      <th>...</th>\n",
       "      <td>...</td>\n",
       "      <td>...</td>\n",
       "    </tr>\n",
       "    <tr>\n",
       "      <th>106</th>\n",
       "      <td>think indecent unessacerry event person shoot ...</td>\n",
       "      <td>False</td>\n",
       "    </tr>\n",
       "    <tr>\n",
       "      <th>270</th>\n",
       "      <td>guy love guy spend minute telus roll blunt</td>\n",
       "      <td>False</td>\n",
       "    </tr>\n",
       "    <tr>\n",
       "      <th>860</th>\n",
       "      <td>people shouldve wish wouldve literally burn en...</td>\n",
       "      <td>True</td>\n",
       "    </tr>\n",
       "    <tr>\n",
       "      <th>435</th>\n",
       "      <td>look like m brown suicide cop thing</td>\n",
       "      <td>True</td>\n",
       "    </tr>\n",
       "    <tr>\n",
       "      <th>102</th>\n",
       "      <td>want son death vain let burn bitch stupid fuck...</td>\n",
       "      <td>True</td>\n",
       "    </tr>\n",
       "  </tbody>\n",
       "</table>\n",
       "<p>999 rows × 2 columns</p>\n",
       "</div>"
      ],
      "text/plain": [
       "                                                  Text  IsToxic\n",
       "453  good job determine occur brown kill occur simp...    False\n",
       "793  awesome job peggy thank tell truth westandwith...    False\n",
       "209                       come read racist comment lol    False\n",
       "309  major difference zimmerman case shooter zimmer...    False\n",
       "740  nigga love victim situation separate black peo...     True\n",
       "..                                                 ...      ...\n",
       "106  think indecent unessacerry event person shoot ...    False\n",
       "270         guy love guy spend minute telus roll blunt    False\n",
       "860  people shouldve wish wouldve literally burn en...     True\n",
       "435                look like m brown suicide cop thing     True\n",
       "102  want son death vain let burn bitch stupid fuck...     True\n",
       "\n",
       "[999 rows x 2 columns]"
      ]
     },
     "execution_count": 59,
     "metadata": {},
     "output_type": "execute_result"
    }
   ],
   "source": [
    "## Hipotesis: mezclamos el df por sesgos humanos a la hora de insertar registros o comentarios que son\n",
    "## sugestionados por el sig o ant comentario\n",
    "df = shuffle(df, random_state = 42)\n",
    "df"
   ]
  },
  {
   "cell_type": "markdown",
   "metadata": {},
   "source": [
    "### Vectorizacion: ajuste y escalado/normalizacion de los tokens"
   ]
  },
  {
   "cell_type": "code",
   "execution_count": 60,
   "metadata": {
    "execution": {
     "iopub.execute_input": "2022-10-26T19:00:37.415201Z",
     "iopub.status.busy": "2022-10-26T19:00:37.414735Z",
     "iopub.status.idle": "2022-10-26T19:00:37.425206Z",
     "shell.execute_reply": "2022-10-26T19:00:37.424075Z",
     "shell.execute_reply.started": "2022-10-26T19:00:37.415154Z"
    }
   },
   "outputs": [],
   "source": [
    "# Inicializacion de constructores de las 2 técnicas de vectorizacion: CountVectorizer() y TfidfTransformer()\n",
    "vectorizer = CountVectorizer()\n",
    "tfid = TfidfTransformer()"
   ]
  },
  {
   "cell_type": "code",
   "execution_count": 61,
   "metadata": {
    "execution": {
     "iopub.execute_input": "2022-10-26T19:00:37.427505Z",
     "iopub.status.busy": "2022-10-26T19:00:37.427011Z",
     "iopub.status.idle": "2022-10-26T19:00:44.815306Z",
     "shell.execute_reply": "2022-10-26T19:00:44.814137Z",
     "shell.execute_reply.started": "2022-10-26T19:00:37.427431Z"
    }
   },
   "outputs": [],
   "source": [
    "#Ajuste y escalado (normalizacion). Finalmente Pasamos a array nuestro vectores a nuestro modelo\n",
    "X = vectorizer.fit_transform(df['Text']).toarray()\n",
    "X = tfid.fit_transform(X).toarray()"
   ]
  },
  {
   "cell_type": "code",
   "execution_count": 62,
   "metadata": {},
   "outputs": [
    {
     "name": "stdout",
     "output_type": "stream",
     "text": [
      "453    0\n",
      "793    0\n",
      "209    0\n",
      "309    0\n",
      "740    1\n",
      "      ..\n",
      "106    0\n",
      "270    0\n",
      "860    1\n",
      "435    1\n",
      "102    1\n",
      "Name: IsToxic, Length: 999, dtype: int64\n"
     ]
    }
   ],
   "source": [
    "\n",
    "df['IsToxic'] = df['IsToxic'].replace({True: 1, False: 0})\n",
    "\n",
    "print(df['IsToxic'])"
   ]
  },
  {
   "cell_type": "code",
   "execution_count": 63,
   "metadata": {},
   "outputs": [],
   "source": [
    "y = df['IsToxic']"
   ]
  },
  {
   "cell_type": "markdown",
   "metadata": {},
   "source": [
    "# Entrenar modelo"
   ]
  },
  {
   "cell_type": "markdown",
   "metadata": {},
   "source": [
    "### Separación de datos de entrenamiento y validación"
   ]
  },
  {
   "cell_type": "code",
   "execution_count": 64,
   "metadata": {
    "execution": {
     "iopub.execute_input": "2022-10-26T19:00:44.817303Z",
     "iopub.status.busy": "2022-10-26T19:00:44.816944Z",
     "iopub.status.idle": "2022-10-26T19:00:46.237907Z",
     "shell.execute_reply": "2022-10-26T19:00:46.236848Z",
     "shell.execute_reply.started": "2022-10-26T19:00:44.81727Z"
    }
   },
   "outputs": [],
   "source": [
    "X_train, X_test, y_train, y_test = train_test_split(X, y, test_size=0.2, random_state=42)"
   ]
  },
  {
   "cell_type": "markdown",
   "metadata": {},
   "source": [
    "###  Entrenamiento con Catboost"
   ]
  },
  {
   "cell_type": "code",
   "execution_count": 76,
   "metadata": {},
   "outputs": [],
   "source": [
    "CBT_model = CatBoostClassifier(iterations=1000, learning_rate=0.001, loss_function='Logloss', eval_metric='AUC', use_best_model=True ) # use_best_model params will make the model prevent overfitting)"
   ]
  },
  {
   "cell_type": "code",
   "execution_count": 77,
   "metadata": {
    "execution": {
     "iopub.execute_input": "2022-10-26T19:01:09.489784Z",
     "iopub.status.busy": "2022-10-26T19:01:09.489206Z",
     "iopub.status.idle": "2022-10-26T19:18:12.635014Z",
     "shell.execute_reply": "2022-10-26T19:18:12.633866Z",
     "shell.execute_reply.started": "2022-10-26T19:01:09.489749Z"
    }
   },
   "outputs": [
    {
     "data": {
      "text/plain": [
       "<catboost.core.CatBoostClassifier at 0x25fcdf5afe0>"
      ]
     },
     "execution_count": 77,
     "metadata": {},
     "output_type": "execute_result"
    }
   ],
   "source": [
    "CBT_model.fit(X_train,y_train, eval_set=[(X_test, y_test)], early_stopping_rounds=5, verbose=False)\n"
   ]
  },
  {
   "cell_type": "code",
   "execution_count": 78,
   "metadata": {
    "execution": {
     "iopub.execute_input": "2022-10-26T19:18:12.637348Z",
     "iopub.status.busy": "2022-10-26T19:18:12.636894Z",
     "iopub.status.idle": "2022-10-26T19:18:43.493522Z",
     "shell.execute_reply": "2022-10-26T19:18:43.492337Z",
     "shell.execute_reply.started": "2022-10-26T19:18:12.637304Z"
    }
   },
   "outputs": [],
   "source": [
    "\n",
    "y_pred_CBT = CBT_model.predict(X_test)\n"
   ]
  },
  {
   "cell_type": "markdown",
   "metadata": {},
   "source": [
    "### Métricas"
   ]
  },
  {
   "cell_type": "code",
   "execution_count": 79,
   "metadata": {},
   "outputs": [],
   "source": [
    "from sklearn.metrics import roc_auc_score, confusion_matrix, classification_report, f1_score,precision_score,accuracy_score\n",
    "import matplotlib.pyplot as plt\n",
    "%matplotlib inline\n",
    "import seaborn as sns\n",
    "\n",
    "def show_metrics(predicciones_test, resultado_test,predicciones_train,resultado_train):\n",
    "    # Metricas de test\n",
    "   # Score_auc = roc_auc_score(y_true = predicciones_test, y_score = resultado_test)\n",
    "    f1 = f1_score(y_true = predicciones_test, y_pred = resultado_test)\n",
    "    precision=precision_score(y_true = predicciones_test, y_pred = resultado_test)\n",
    "    accuracy= accuracy_score(y_true = predicciones_test, y_pred = resultado_test)\n",
    "    #print(f'Score_auc:{Score_auc}')\n",
    "    print(f'f1_score:{f1}')\n",
    "    print(f'precision:{precision}')\n",
    "    print(f'accuracy:{accuracy}')\n",
    "    print()\n",
    "    # Metricas train\n",
    "    print(\"METRICAS TRAIN\")\n",
    "    #Score_auc_train = roc_auc_score(y_true = predicciones_train, y_score = resultado_train)\n",
    "    f1_train = f1_score(y_true = predicciones_train, y_pred = resultado_train)\n",
    "    precision_train=precision_score(y_true = predicciones_train, y_pred = resultado_train)\n",
    "    accuracy_train= accuracy_score(y_true = predicciones_train, y_pred = resultado_train)\n",
    "    #print(f'Score_auc train:{Score_auc_train}')\n",
    "    print(f'f1_score train:{f1_train}')\n",
    "    print(f'precision train:{precision_train}')\n",
    "    print(f'accuracy train:{accuracy_train}')\n",
    "    \n",
    "    # Overfitting\n",
    "    print()\n",
    "    print(\"Overfitting\")\n",
    "    #print(f'Score_auc overfitting: {((Score_auc_train-Score_auc)*100)/Score_auc} %')\n",
    "    print(f'f1_score overfitting:{((f1_train-f1)*100)/f1} %')\n",
    "    print(f'precision overfitting:{((precision_train-precision)*100)/precision} %')\n",
    "    print(f'accuracy overfitting:{((accuracy_train-accuracy)*100)/accuracy} %')\n",
    "    \n",
    "    ## MAtriz de confusión\n",
    "    print(classification_report(predicciones_test,resultado_test))\n",
    "    matriz_confusion = confusion_matrix(y_true = predicciones_test, y_pred = resultado_test)\n",
    "    matriz_confusion_df = pd.DataFrame(matriz_confusion)\n",
    "    label = ['positivo', 'negativo']\n",
    "       \n",
    "    matriz_confusion_df.columns= label\n",
    "    matriz_confusion_df.index = label\n",
    "\n",
    "    # Y nombramos lo que son las columnas y las filas:\n",
    "    matriz_confusion_df.columns.name = \"Predicho\"\n",
    "    matriz_confusion_df.index.name = \"Real\"\n",
    "\n",
    "    plt.figure(figsize=(8,4))\n",
    "    sns.heatmap(matriz_confusion_df,                     \n",
    "            annot=True,\n",
    "            fmt=\"d\",\n",
    "            cmap=\"Blues\")"
   ]
  },
  {
   "cell_type": "code",
   "execution_count": 80,
   "metadata": {},
   "outputs": [
    {
     "name": "stdout",
     "output_type": "stream",
     "text": [
      "f1_score:0.4651162790697674\n",
      "precision:0.3125\n",
      "accuracy:0.655\n",
      "\n",
      "METRICAS TRAIN\n",
      "f1_score train:0.4513457556935818\n",
      "precision train:0.2978142076502732\n",
      "accuracy train:0.6683354192740926\n",
      "\n",
      "Overfitting\n",
      "f1_score overfitting:-2.960662525879896 %\n",
      "precision overfitting:-4.699453551912569 %\n",
      "accuracy overfitting:2.0359418739072583 %\n",
      "              precision    recall  f1-score   support\n",
      "\n",
      "           0       0.97      0.60      0.75       167\n",
      "           1       0.31      0.91      0.47        33\n",
      "\n",
      "    accuracy                           0.66       200\n",
      "   macro avg       0.64      0.76      0.61       200\n",
      "weighted avg       0.86      0.66      0.70       200\n",
      "\n"
     ]
    },
    {
     "data": {
      "image/png": "[encoded data removed]",
      "text/plain": [
       "<Figure size 800x400 with 2 Axes>"
      ]
     },
     "metadata": {},
     "output_type": "display_data"
    }
   ],
   "source": [
    "\n",
    "pred_train = CBT_model.predict(X_train)\n",
    "y_pred_train = pred_train.astype(dtype=bool)\n",
    "\n",
    "show_metrics(y_pred_CBT, y_test,y_pred_train,y_train)"
   ]
  },
  {
   "cell_type": "markdown",
   "metadata": {},
   "source": [
    "### Optimización de hiperparámetros con RandomizedSearchCV"
   ]
  },
  {
   "cell_type": "code",
   "execution_count": 83,
   "metadata": {},
   "outputs": [
    {
     "name": "stdout",
     "output_type": "stream",
     "text": [
      " The best estimator across ALL searched params:  <catboost.core.CatBoostClassifier object at 0x0000025FCE16DA20>\n",
      " The best score across ALL searched params:  0.7636737450394336\n",
      " The best parameters across ALL searched params:  {'learning_rate': 0.03, 'l2_leaf_reg': 5, 'depth': 10}\n",
      " The best scoring across ALL searched params: :  roc_auc\n"
     ]
    }
   ],
   "source": [
    "from sklearn.model_selection import RandomizedSearchCV\n",
    "\n",
    "estimator =CatBoostClassifier(iterations=1000, learning_rate=0.001, loss_function='Logloss', eval_metric='AUC', use_best_model=True )\n",
    "\n",
    "parameters = {'learning_rate': [0.03, 0.1],\n",
    "        'depth': [4, 6, 10],\n",
    "        'l2_leaf_reg': [1, 3, 5, 7, 9]}\n",
    "\n",
    "rd_search = RandomizedSearchCV(\n",
    "    estimator = estimator,\n",
    "    param_distributions = parameters,\n",
    "    scoring = 'roc_auc',\n",
    "    n_jobs = 10,\n",
    "    cv = 5,\n",
    "    verbose=False\n",
    ")\n",
    "\n",
    "eval_set = [(X_train, y_train), (X_test, y_test)]\n",
    "rd_search.fit(X_train, y_train,\n",
    "                early_stopping_rounds = 20,\n",
    "                eval_set = eval_set, verbose = False)\n",
    "\n",
    "print(\" The best estimator across ALL searched params: \", rd_search.best_estimator_)\n",
    "print(\" The best score across ALL searched params: \", rd_search.best_score_)\n",
    "print(\" The best parameters across ALL searched params: \", rd_search.best_params_)\n",
    "print(\" The best scoring across ALL searched params: : \", rd_search.scoring)\n",
    "\n",
    "# Guardamos el mejor modelo\n",
    "modelo_CB_hyper = rd_search.best_estimator_\n",
    "\n"
   ]
  },
  {
   "cell_type": "code",
   "execution_count": 84,
   "metadata": {
    "execution": {
     "iopub.execute_input": "2022-10-26T19:00:37.415201Z",
     "iopub.status.busy": "2022-10-26T19:00:37.414735Z",
     "iopub.status.idle": "2022-10-26T19:00:37.425206Z",
     "shell.execute_reply": "2022-10-26T19:00:37.424075Z",
     "shell.execute_reply.started": "2022-10-26T19:00:37.415154Z"
    }
   },
   "outputs": [
    {
     "name": "stdout",
     "output_type": "stream",
     "text": [
      "f1_score:0.611111111111111\n",
      "precision:0.4583333333333333\n",
      "accuracy:0.72\n",
      "\n",
      "METRICAS TRAIN\n",
      "f1_score train:0.5962962962962963\n",
      "precision train:0.43989071038251365\n",
      "accuracy train:0.7271589486858573\n",
      "\n",
      "Overfitting\n",
      "f1_score overfitting:-2.4242424242424097 %\n",
      "precision overfitting:-4.0238450074515635 %\n",
      "accuracy overfitting:0.9942984285912936 %\n",
      "              precision    recall  f1-score   support\n",
      "\n",
      "           0       0.96      0.66      0.78       152\n",
      "           1       0.46      0.92      0.61        48\n",
      "\n",
      "    accuracy                           0.72       200\n",
      "   macro avg       0.71      0.79      0.70       200\n",
      "weighted avg       0.84      0.72      0.74       200\n",
      "\n"
     ]
    },
    {
     "data": {
      "image/png": "[encoded data removed]",
      "text/plain": [
       "<Figure size 800x400 with 2 Axes>"
      ]
     },
     "metadata": {},
     "output_type": "display_data"
    }
   ],
   "source": [
    "y_pred_CB_rs = modelo_CB_hyper.predict(X_test)\n",
    "pred_train = modelo_CB_hyper.predict(X_train)\n",
    "y_pred_train_rs = pred_train.astype(dtype=bool)\n",
    "show_metrics(y_pred_CB_rs, y_test,y_pred_train_rs,y_train)"
   ]
  },
  {
   "cell_type": "markdown",
   "metadata": {},
   "source": [
    "### Optimización de hiperparámetros con GridSearchCV"
   ]
  },
  {
   "cell_type": "code",
   "execution_count": 88,
   "metadata": {},
   "outputs": [
    {
     "data": {
      "text/html": [
       "<style>#sk-container-id-1 {color: black;background-color: white;}#sk-container-id-1 pre{padding: 0;}#sk-container-id-1 div.sk-toggleable {background-color: white;}#sk-container-id-1 label.sk-toggleable__label {cursor: pointer;display: block;width: 100%;margin-bottom: 0;padding: 0.3em;box-sizing: border-box;text-align: center;}#sk-container-id-1 label.sk-toggleable__label-arrow:before {content: \"▸\";float: left;margin-right: 0.25em;color: #696969;}#sk-container-id-1 label.sk-toggleable__label-arrow:hover:before {color: black;}#sk-container-id-1 div.sk-estimator:hover label.sk-toggleable__label-arrow:before {color: black;}#sk-container-id-1 div.sk-toggleable__content {max-height: 0;max-width: 0;overflow: hidden;text-align: left;background-color: #f0f8ff;}#sk-container-id-1 div.sk-toggleable__content pre {margin: 0.2em;color: black;border-radius: 0.25em;background-color: #f0f8ff;}#sk-container-id-1 input.sk-toggleable__control:checked~div.sk-toggleable__content {max-height: 200px;max-width: 100%;overflow: auto;}#sk-container-id-1 input.sk-toggleable__control:checked~label.sk-toggleable__label-arrow:before {content: \"▾\";}#sk-container-id-1 div.sk-estimator input.sk-toggleable__control:checked~label.sk-toggleable__label {background-color: #d4ebff;}#sk-container-id-1 div.sk-label input.sk-toggleable__control:checked~label.sk-toggleable__label {background-color: #d4ebff;}#sk-container-id-1 input.sk-hidden--visually {border: 0;clip: rect(1px 1px 1px 1px);clip: rect(1px, 1px, 1px, 1px);height: 1px;margin: -1px;overflow: hidden;padding: 0;position: absolute;width: 1px;}#sk-container-id-1 div.sk-estimator {font-family: monospace;background-color: #f0f8ff;border: 1px dotted black;border-radius: 0.25em;box-sizing: border-box;margin-bottom: 0.5em;}#sk-container-id-1 div.sk-estimator:hover {background-color: #d4ebff;}#sk-container-id-1 div.sk-parallel-item::after {content: \"\";width: 100%;border-bottom: 1px solid gray;flex-grow: 1;}#sk-container-id-1 div.sk-label:hover label.sk-toggleable__label {background-color: #d4ebff;}#sk-container-id-1 div.sk-serial::before {content: \"\";position: absolute;border-left: 1px solid gray;box-sizing: border-box;top: 0;bottom: 0;left: 50%;z-index: 0;}#sk-container-id-1 div.sk-serial {display: flex;flex-direction: column;align-items: center;background-color: white;padding-right: 0.2em;padding-left: 0.2em;position: relative;}#sk-container-id-1 div.sk-item {position: relative;z-index: 1;}#sk-container-id-1 div.sk-parallel {display: flex;align-items: stretch;justify-content: center;background-color: white;position: relative;}#sk-container-id-1 div.sk-item::before, #sk-container-id-1 div.sk-parallel-item::before {content: \"\";position: absolute;border-left: 1px solid gray;box-sizing: border-box;top: 0;bottom: 0;left: 50%;z-index: -1;}#sk-container-id-1 div.sk-parallel-item {display: flex;flex-direction: column;z-index: 1;position: relative;background-color: white;}#sk-container-id-1 div.sk-parallel-item:first-child::after {align-self: flex-end;width: 50%;}#sk-container-id-1 div.sk-parallel-item:last-child::after {align-self: flex-start;width: 50%;}#sk-container-id-1 div.sk-parallel-item:only-child::after {width: 0;}#sk-container-id-1 div.sk-dashed-wrapped {border: 1px dashed gray;margin: 0 0.4em 0.5em 0.4em;box-sizing: border-box;padding-bottom: 0.4em;background-color: white;}#sk-container-id-1 div.sk-label label {font-family: monospace;font-weight: bold;display: inline-block;line-height: 1.2em;}#sk-container-id-1 div.sk-label-container {text-align: center;}#sk-container-id-1 div.sk-container {/* jupyter's `normalize.less` sets `[hidden] { display: none; }` but bootstrap.min.css set `[hidden] { display: none !important; }` so we also need the `!important` here to be able to override the default hidden behavior on the sphinx rendered scikit-learn.org. See: https://github.com/scikit-learn/scikit-learn/issues/21755 */display: inline-block !important;position: relative;}#sk-container-id-1 div.sk-text-repr-fallback {display: none;}</style><div id=\"sk-container-id-1\" class=\"sk-top-container\"><div class=\"sk-text-repr-fallback\"><pre>GridSearchCV(cv=2,\n",
       "             estimator=&lt;catboost.core.CatBoostClassifier object at 0x0000025FCE16D8A0&gt;,\n",
       "             n_jobs=-1,\n",
       "             param_grid={&#x27;depth&#x27;: [4, 5, 6, 7, 8, 9, 10],\n",
       "                         &#x27;iterations&#x27;: [10, 20, 30, 40, 50, 60, 70, 80, 90,\n",
       "                                        100],\n",
       "                         &#x27;learning_rate&#x27;: [0.01, 0.02, 0.03, 0.04]},\n",
       "             scoring=&#x27;precision&#x27;)</pre><b>In a Jupyter environment, please rerun this cell to show the HTML representation or trust the notebook. <br />On GitHub, the HTML representation is unable to render, please try loading this page with nbviewer.org.</b></div><div class=\"sk-container\" hidden><div class=\"sk-item sk-dashed-wrapped\"><div class=\"sk-label-container\"><div class=\"sk-label sk-toggleable\"><input class=\"sk-toggleable__control sk-hidden--visually\" id=\"sk-estimator-id-1\" type=\"checkbox\" ><label for=\"sk-estimator-id-1\" class=\"sk-toggleable__label sk-toggleable__label-arrow\">GridSearchCV</label><div class=\"sk-toggleable__content\"><pre>GridSearchCV(cv=2,\n",
       "             estimator=&lt;catboost.core.CatBoostClassifier object at 0x0000025FCE16D8A0&gt;,\n",
       "             n_jobs=-1,\n",
       "             param_grid={&#x27;depth&#x27;: [4, 5, 6, 7, 8, 9, 10],\n",
       "                         &#x27;iterations&#x27;: [10, 20, 30, 40, 50, 60, 70, 80, 90,\n",
       "                                        100],\n",
       "                         &#x27;learning_rate&#x27;: [0.01, 0.02, 0.03, 0.04]},\n",
       "             scoring=&#x27;precision&#x27;)</pre></div></div></div><div class=\"sk-parallel\"><div class=\"sk-parallel-item\"><div class=\"sk-item\"><div class=\"sk-label-container\"><div class=\"sk-label sk-toggleable\"><input class=\"sk-toggleable__control sk-hidden--visually\" id=\"sk-estimator-id-2\" type=\"checkbox\" ><label for=\"sk-estimator-id-2\" class=\"sk-toggleable__label sk-toggleable__label-arrow\">estimator: CatBoostClassifier</label><div class=\"sk-toggleable__content\"><pre>&lt;catboost.core.CatBoostClassifier object at 0x0000025FCE16D8A0&gt;</pre></div></div></div><div class=\"sk-serial\"><div class=\"sk-item\"><div class=\"sk-estimator sk-toggleable\"><input class=\"sk-toggleable__control sk-hidden--visually\" id=\"sk-estimator-id-3\" type=\"checkbox\" ><label for=\"sk-estimator-id-3\" class=\"sk-toggleable__label sk-toggleable__label-arrow\">CatBoostClassifier</label><div class=\"sk-toggleable__content\"><pre>&lt;catboost.core.CatBoostClassifier object at 0x0000025FCE16D8A0&gt;</pre></div></div></div></div></div></div></div></div></div></div>"
      ],
      "text/plain": [
       "GridSearchCV(cv=2,\n",
       "             estimator=<catboost.core.CatBoostClassifier object at 0x0000025FCE16D8A0>,\n",
       "             n_jobs=-1,\n",
       "             param_grid={'depth': [4, 5, 6, 7, 8, 9, 10],\n",
       "                         'iterations': [10, 20, 30, 40, 50, 60, 70, 80, 90,\n",
       "                                        100],\n",
       "                         'learning_rate': [0.01, 0.02, 0.03, 0.04]},\n",
       "             scoring='precision')"
      ]
     },
     "execution_count": 88,
     "metadata": {},
     "output_type": "execute_result"
    }
   ],
   "source": [
    "from sklearn.model_selection import GridSearchCV\n",
    "CBC = CatBoostClassifier()\n",
    "parameters = {'depth'         : [4,5,6,7,8,9, 10],\n",
    "                 'learning_rate' : [0.01,0.02,0.03,0.04],\n",
    "                  'iterations'    : [10, 20,30,40,50,60,70,80,90, 100]\n",
    "                 }\n",
    "Grid_CBC = GridSearchCV(estimator=CBC, param_grid = parameters, cv = 2, n_jobs=-1,scoring = 'precision')\n",
    "Grid_CBC.fit(X_train, y_train,\n",
    "                early_stopping_rounds = 20,\n",
    "                eval_set = eval_set, verbose = False)"
   ]
  },
  {
   "cell_type": "code",
   "execution_count": 89,
   "metadata": {},
   "outputs": [],
   "source": [
    "modelo_CB_hyperGrid = Grid_CBC.best_estimator_"
   ]
  },
  {
   "cell_type": "code",
   "execution_count": 90,
   "metadata": {
    "scrolled": true
   },
   "outputs": [
    {
     "name": "stdout",
     "output_type": "stream",
     "text": [
      "f1_score:0.5714285714285715\n",
      "precision:0.4166666666666667\n",
      "accuracy:0.7\n",
      "\n",
      "METRICAS TRAIN\n",
      "f1_score train:0.5544933078393881\n",
      "precision train:0.39617486338797814\n",
      "accuracy train:0.7083854818523154\n",
      "\n",
      "Overfitting\n",
      "f1_score overfitting:-2.963671128107095 %\n",
      "precision overfitting:-4.9180327868852505 %\n",
      "accuracy overfitting:1.1979259789022099 %\n",
      "              precision    recall  f1-score   support\n",
      "\n",
      "           0       0.96      0.64      0.77       156\n",
      "           1       0.42      0.91      0.57        44\n",
      "\n",
      "    accuracy                           0.70       200\n",
      "   macro avg       0.69      0.78      0.67       200\n",
      "weighted avg       0.84      0.70      0.73       200\n",
      "\n"
     ]
    },
    {
     "data": {
      "image/png": "[encoded data removed]",
      "text/plain": [
       "<Figure size 800x400 with 2 Axes>"
      ]
     },
     "metadata": {},
     "output_type": "display_data"
    }
   ],
   "source": [
    "y_pred_CBGS =modelo_CB_hyperGrid.predict(X_test)\n",
    "pred_train =modelo_CB_hyperGrid.predict(X_train)\n",
    "y_pred_trainGS = pred_train.astype(dtype=bool)\n",
    "show_metrics(y_pred_CBGS, y_test,y_pred_trainGS,y_train)"
   ]
  },
  {
   "cell_type": "markdown",
   "metadata": {},
   "source": [
    "# Guardar transformer y mejor modelo"
   ]
  },
  {
   "cell_type": "code",
   "execution_count": 86,
   "metadata": {
    "execution": {
     "iopub.execute_input": "2022-10-26T19:18:43.509022Z",
     "iopub.status.busy": "2022-10-26T19:18:43.508647Z",
     "iopub.status.idle": "2022-10-26T19:18:43.516761Z",
     "shell.execute_reply": "2022-10-26T19:18:43.515733Z",
     "shell.execute_reply.started": "2022-10-26T19:18:43.508982Z"
    }
   },
   "outputs": [],
   "source": [
    "import pickle"
   ]
  },
  {
   "cell_type": "code",
   "execution_count": 92,
   "metadata": {},
   "outputs": [],
   "source": [
    "### Guardando diccionario BoW para usarlo mas tarde en la predicción\n",
    "transformer_path = 'transformer_final.pkl'\n",
    "pickle.dump(X , open(transformer_path, \"wb\"))"
   ]
  },
  {
   "cell_type": "code",
   "execution_count": 91,
   "metadata": {
    "execution": {
     "iopub.execute_input": "2022-10-26T19:18:43.518476Z",
     "iopub.status.busy": "2022-10-26T19:18:43.518104Z",
     "iopub.status.idle": "2022-10-26T19:18:43.574585Z",
     "shell.execute_reply": "2022-10-26T19:18:43.573312Z",
     "shell.execute_reply.started": "2022-10-26T19:18:43.518443Z"
    }
   },
   "outputs": [],
   "source": [
    "pickle.dump(modelo_CB_hyperGrid, open('modelo_entrenado_final.pkl', 'wb'))"
   ]
  },
  {
   "cell_type": "code",
   "execution_count": null,
   "metadata": {
    "execution": {
     "iopub.execute_input": "2022-10-26T19:51:26.804915Z",
     "iopub.status.busy": "2022-10-26T19:51:26.80448Z",
     "iopub.status.idle": "2022-10-26T19:51:26.907024Z",
     "shell.execute_reply": "2022-10-26T19:51:26.905918Z",
     "shell.execute_reply.started": "2022-10-26T19:51:26.80488Z"
    }
   },
   "outputs": [],
   "source": []
  },
  {
   "cell_type": "code",
   "execution_count": null,
   "metadata": {},
   "outputs": [],
   "source": []
  }
 ],
 "metadata": {
  "kernelspec": {
   "display_name": "Python 3 (ipykernel)",
   "language": "python",
   "name": "python3"
  },
  "language_info": {
   "codemirror_mode": {
    "name": "ipython",
    "version": 3
   },
   "file_extension": ".py",
   "mimetype": "text/x-python",
   "name": "python",
   "nbconvert_exporter": "python",
   "pygments_lexer": "ipython3",
   "version": "3.10.7"
  },
  "vscode": {
   "interpreter": {
    "hash": "5897bbd583651accaaff4ef8eaa9185212d6a1d6f91d23d5498bf9077304d7ea"
   }
  }
 },
 "nbformat": 4,
 "nbformat_minor": 4
}
