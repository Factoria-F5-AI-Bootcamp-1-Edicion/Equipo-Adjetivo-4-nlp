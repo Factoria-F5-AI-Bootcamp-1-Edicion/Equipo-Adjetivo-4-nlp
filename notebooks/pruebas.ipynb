{
  "cells": [
    {
      "cell_type": "markdown",
      "id": "417295db",
      "metadata": {},
      "source": [
        "## 1. Importar las librerías necesarias "
      ]
    },
    {
      "cell_type": "code",
      "execution_count": 2,
      "id": "e6fc390f",
      "metadata": {},
      "outputs": [],
      "source": [
        "import numpy as np\n",
        "import pandas as pd\n",
        "import matplotlib.pyplot as plt\n",
        "import seaborn as sns\n",
        "\n",
        "%matplotlib inline\n",
        "import warnings\n",
        "warnings.filterwarnings(\"ignore\")"
      ]
    },
    {
      "cell_type": "markdown",
      "id": "abf611fb",
      "metadata": {},
      "source": [
        "## 2. Introducir los datos"
      ]
    },
    {
      "cell_type": "code",
      "execution_count": 3,
      "id": "91848678",
      "metadata": {},
      "outputs": [
        {
          "data": {
            "text/html": [
              "<div>\n",
              "<style scoped>\n",
              "    .dataframe tbody tr th:only-of-type {\n",
              "        vertical-align: middle;\n",
              "    }\n",
              "\n",
              "    .dataframe tbody tr th {\n",
              "        vertical-align: top;\n",
              "    }\n",
              "\n",
              "    .dataframe thead th {\n",
              "        text-align: right;\n",
              "    }\n",
              "</style>\n",
              "<table border=\"1\" class=\"dataframe\">\n",
              "  <thead>\n",
              "    <tr style=\"text-align: right;\">\n",
              "      <th></th>\n",
              "      <th>CommentId</th>\n",
              "      <th>VideoId</th>\n",
              "      <th>Text</th>\n",
              "      <th>IsToxic</th>\n",
              "      <th>IsAbusive</th>\n",
              "      <th>IsThreat</th>\n",
              "      <th>IsProvocative</th>\n",
              "      <th>IsObscene</th>\n",
              "      <th>IsHatespeech</th>\n",
              "      <th>IsRacist</th>\n",
              "      <th>IsNationalist</th>\n",
              "      <th>IsSexist</th>\n",
              "      <th>IsHomophobic</th>\n",
              "      <th>IsReligiousHate</th>\n",
              "      <th>IsRadicalism</th>\n",
              "    </tr>\n",
              "  </thead>\n",
              "  <tbody>\n",
              "    <tr>\n",
              "      <th>0</th>\n",
              "      <td>Ugg2KwwX0V8-aXgCoAEC</td>\n",
              "      <td>04kJtp6pVXI</td>\n",
              "      <td>If only people would just take a step back and...</td>\n",
              "      <td>False</td>\n",
              "      <td>False</td>\n",
              "      <td>False</td>\n",
              "      <td>False</td>\n",
              "      <td>False</td>\n",
              "      <td>False</td>\n",
              "      <td>False</td>\n",
              "      <td>False</td>\n",
              "      <td>False</td>\n",
              "      <td>False</td>\n",
              "      <td>False</td>\n",
              "      <td>False</td>\n",
              "    </tr>\n",
              "    <tr>\n",
              "      <th>1</th>\n",
              "      <td>Ugg2s5AzSPioEXgCoAEC</td>\n",
              "      <td>04kJtp6pVXI</td>\n",
              "      <td>Law enforcement is not trained to shoot to app...</td>\n",
              "      <td>True</td>\n",
              "      <td>True</td>\n",
              "      <td>False</td>\n",
              "      <td>False</td>\n",
              "      <td>False</td>\n",
              "      <td>False</td>\n",
              "      <td>False</td>\n",
              "      <td>False</td>\n",
              "      <td>False</td>\n",
              "      <td>False</td>\n",
              "      <td>False</td>\n",
              "      <td>False</td>\n",
              "    </tr>\n",
              "    <tr>\n",
              "      <th>2</th>\n",
              "      <td>Ugg3dWTOxryFfHgCoAEC</td>\n",
              "      <td>04kJtp6pVXI</td>\n",
              "      <td>\\nDont you reckon them 'black lives matter' ba...</td>\n",
              "      <td>True</td>\n",
              "      <td>True</td>\n",
              "      <td>False</td>\n",
              "      <td>False</td>\n",
              "      <td>True</td>\n",
              "      <td>False</td>\n",
              "      <td>False</td>\n",
              "      <td>False</td>\n",
              "      <td>False</td>\n",
              "      <td>False</td>\n",
              "      <td>False</td>\n",
              "      <td>False</td>\n",
              "    </tr>\n",
              "    <tr>\n",
              "      <th>3</th>\n",
              "      <td>Ugg7Gd006w1MPngCoAEC</td>\n",
              "      <td>04kJtp6pVXI</td>\n",
              "      <td>There are a very large number of people who do...</td>\n",
              "      <td>False</td>\n",
              "      <td>False</td>\n",
              "      <td>False</td>\n",
              "      <td>False</td>\n",
              "      <td>False</td>\n",
              "      <td>False</td>\n",
              "      <td>False</td>\n",
              "      <td>False</td>\n",
              "      <td>False</td>\n",
              "      <td>False</td>\n",
              "      <td>False</td>\n",
              "      <td>False</td>\n",
              "    </tr>\n",
              "    <tr>\n",
              "      <th>4</th>\n",
              "      <td>Ugg8FfTbbNF8IngCoAEC</td>\n",
              "      <td>04kJtp6pVXI</td>\n",
              "      <td>The Arab dude is absolutely right, he should h...</td>\n",
              "      <td>False</td>\n",
              "      <td>False</td>\n",
              "      <td>False</td>\n",
              "      <td>False</td>\n",
              "      <td>False</td>\n",
              "      <td>False</td>\n",
              "      <td>False</td>\n",
              "      <td>False</td>\n",
              "      <td>False</td>\n",
              "      <td>False</td>\n",
              "      <td>False</td>\n",
              "      <td>False</td>\n",
              "    </tr>\n",
              "  </tbody>\n",
              "</table>\n",
              "</div>"
            ],
            "text/plain": [
              "              CommentId      VideoId  \\\n",
              "0  Ugg2KwwX0V8-aXgCoAEC  04kJtp6pVXI   \n",
              "1  Ugg2s5AzSPioEXgCoAEC  04kJtp6pVXI   \n",
              "2  Ugg3dWTOxryFfHgCoAEC  04kJtp6pVXI   \n",
              "3  Ugg7Gd006w1MPngCoAEC  04kJtp6pVXI   \n",
              "4  Ugg8FfTbbNF8IngCoAEC  04kJtp6pVXI   \n",
              "\n",
              "                                                Text  IsToxic  IsAbusive  \\\n",
              "0  If only people would just take a step back and...    False      False   \n",
              "1  Law enforcement is not trained to shoot to app...     True       True   \n",
              "2  \\nDont you reckon them 'black lives matter' ba...     True       True   \n",
              "3  There are a very large number of people who do...    False      False   \n",
              "4  The Arab dude is absolutely right, he should h...    False      False   \n",
              "\n",
              "   IsThreat  IsProvocative  IsObscene  IsHatespeech  IsRacist  IsNationalist  \\\n",
              "0     False          False      False         False     False          False   \n",
              "1     False          False      False         False     False          False   \n",
              "2     False          False       True         False     False          False   \n",
              "3     False          False      False         False     False          False   \n",
              "4     False          False      False         False     False          False   \n",
              "\n",
              "   IsSexist  IsHomophobic  IsReligiousHate  IsRadicalism  \n",
              "0     False         False            False         False  \n",
              "1     False         False            False         False  \n",
              "2     False         False            False         False  \n",
              "3     False         False            False         False  \n",
              "4     False         False            False         False  "
            ]
          },
          "execution_count": 3,
          "metadata": {},
          "output_type": "execute_result"
        }
      ],
      "source": [
        "data = pd.read_csv('../data/raw/youtoxic.csv')\n",
        "data.head()"
      ]
    },
    {
      "cell_type": "markdown",
      "id": "8e5af013",
      "metadata": {},
      "source": [
        "### Comprobar si las etiquetas están equilibradas"
      ]
    },
    {
      "cell_type": "code",
      "execution_count": 4,
      "id": "e8160a03",
      "metadata": {},
      "outputs": [
        {
          "data": {
            "text/plain": [
              "<AxesSubplot: xlabel='IsToxic', ylabel='count'>"
            ]
          },
          "execution_count": 4,
          "metadata": {},
          "output_type": "execute_result"
        },
        {
          "data": {
            "image/png": "[encoded data removed]",
            "text/plain": [
              "<Figure size 640x480 with 1 Axes>"
            ]
          },
          "metadata": {},
          "output_type": "display_data"
        }
      ],
      "source": [
        "#sns.countplot(data=data,x=\"IsToxic\")\n",
        "sns.countplot(x ='IsToxic', data = data)"
      ]
    },
    {
      "cell_type": "code",
      "execution_count": 5,
      "id": "7c994656",
      "metadata": {},
      "outputs": [
        {
          "data": {
            "text/html": [
              "<div>\n",
              "<style scoped>\n",
              "    .dataframe tbody tr th:only-of-type {\n",
              "        vertical-align: middle;\n",
              "    }\n",
              "\n",
              "    .dataframe tbody tr th {\n",
              "        vertical-align: top;\n",
              "    }\n",
              "\n",
              "    .dataframe thead th {\n",
              "        text-align: right;\n",
              "    }\n",
              "</style>\n",
              "<table border=\"1\" class=\"dataframe\">\n",
              "  <thead>\n",
              "    <tr style=\"text-align: right;\">\n",
              "      <th></th>\n",
              "      <th>CommentId</th>\n",
              "      <th>VideoId</th>\n",
              "      <th>Text</th>\n",
              "      <th>IsToxic</th>\n",
              "      <th>IsAbusive</th>\n",
              "      <th>IsThreat</th>\n",
              "      <th>IsProvocative</th>\n",
              "      <th>IsObscene</th>\n",
              "      <th>IsHatespeech</th>\n",
              "      <th>IsRacist</th>\n",
              "      <th>IsNationalist</th>\n",
              "      <th>IsSexist</th>\n",
              "      <th>IsHomophobic</th>\n",
              "      <th>IsReligiousHate</th>\n",
              "      <th>IsRadicalism</th>\n",
              "    </tr>\n",
              "  </thead>\n",
              "  <tbody>\n",
              "    <tr>\n",
              "      <th>995</th>\n",
              "      <td>Ugi5ADt10EdDz3gCoAEC</td>\n",
              "      <td>XRuCW80L9mA</td>\n",
              "      <td>I remember that they sent in the national defe...</td>\n",
              "      <td>False</td>\n",
              "      <td>False</td>\n",
              "      <td>False</td>\n",
              "      <td>False</td>\n",
              "      <td>False</td>\n",
              "      <td>False</td>\n",
              "      <td>False</td>\n",
              "      <td>False</td>\n",
              "      <td>False</td>\n",
              "      <td>False</td>\n",
              "      <td>False</td>\n",
              "      <td>False</td>\n",
              "    </tr>\n",
              "    <tr>\n",
              "      <th>996</th>\n",
              "      <td>Ugifh2DMhBbDkHgCoAEC</td>\n",
              "      <td>XRuCW80L9mA</td>\n",
              "      <td>Stats don`t represent the problem. Race baitin...</td>\n",
              "      <td>True</td>\n",
              "      <td>False</td>\n",
              "      <td>False</td>\n",
              "      <td>False</td>\n",
              "      <td>False</td>\n",
              "      <td>True</td>\n",
              "      <td>True</td>\n",
              "      <td>False</td>\n",
              "      <td>False</td>\n",
              "      <td>False</td>\n",
              "      <td>False</td>\n",
              "      <td>False</td>\n",
              "    </tr>\n",
              "    <tr>\n",
              "      <th>997</th>\n",
              "      <td>Ugj_plbGBjjzYXgCoAEC</td>\n",
              "      <td>XRuCW80L9mA</td>\n",
              "      <td>The quote from the mother... Wow that hit hard...</td>\n",
              "      <td>False</td>\n",
              "      <td>False</td>\n",
              "      <td>False</td>\n",
              "      <td>False</td>\n",
              "      <td>False</td>\n",
              "      <td>False</td>\n",
              "      <td>False</td>\n",
              "      <td>False</td>\n",
              "      <td>False</td>\n",
              "      <td>False</td>\n",
              "      <td>False</td>\n",
              "      <td>False</td>\n",
              "    </tr>\n",
              "    <tr>\n",
              "      <th>998</th>\n",
              "      <td>Ugj0bah1De8xy3gCoAEC</td>\n",
              "      <td>XRuCW80L9mA</td>\n",
              "      <td>this video is so racist</td>\n",
              "      <td>False</td>\n",
              "      <td>False</td>\n",
              "      <td>False</td>\n",
              "      <td>False</td>\n",
              "      <td>False</td>\n",
              "      <td>False</td>\n",
              "      <td>False</td>\n",
              "      <td>False</td>\n",
              "      <td>False</td>\n",
              "      <td>False</td>\n",
              "      <td>False</td>\n",
              "      <td>False</td>\n",
              "    </tr>\n",
              "    <tr>\n",
              "      <th>999</th>\n",
              "      <td>UgjBJKQSoQMQ6ngCoAEC</td>\n",
              "      <td>XRuCW80L9mA</td>\n",
              "      <td>God, the narrator has such an annoying lisp.</td>\n",
              "      <td>False</td>\n",
              "      <td>False</td>\n",
              "      <td>False</td>\n",
              "      <td>False</td>\n",
              "      <td>False</td>\n",
              "      <td>False</td>\n",
              "      <td>False</td>\n",
              "      <td>False</td>\n",
              "      <td>False</td>\n",
              "      <td>False</td>\n",
              "      <td>False</td>\n",
              "      <td>False</td>\n",
              "    </tr>\n",
              "  </tbody>\n",
              "</table>\n",
              "</div>"
            ],
            "text/plain": [
              "                CommentId      VideoId  \\\n",
              "995  Ugi5ADt10EdDz3gCoAEC  XRuCW80L9mA   \n",
              "996  Ugifh2DMhBbDkHgCoAEC  XRuCW80L9mA   \n",
              "997  Ugj_plbGBjjzYXgCoAEC  XRuCW80L9mA   \n",
              "998  Ugj0bah1De8xy3gCoAEC  XRuCW80L9mA   \n",
              "999  UgjBJKQSoQMQ6ngCoAEC  XRuCW80L9mA   \n",
              "\n",
              "                                                  Text  IsToxic  IsAbusive  \\\n",
              "995  I remember that they sent in the national defe...    False      False   \n",
              "996  Stats don`t represent the problem. Race baitin...     True      False   \n",
              "997  The quote from the mother... Wow that hit hard...    False      False   \n",
              "998                            this video is so racist    False      False   \n",
              "999      God, the narrator has such an annoying lisp.     False      False   \n",
              "\n",
              "     IsThreat  IsProvocative  IsObscene  IsHatespeech  IsRacist  \\\n",
              "995     False          False      False         False     False   \n",
              "996     False          False      False          True      True   \n",
              "997     False          False      False         False     False   \n",
              "998     False          False      False         False     False   \n",
              "999     False          False      False         False     False   \n",
              "\n",
              "     IsNationalist  IsSexist  IsHomophobic  IsReligiousHate  IsRadicalism  \n",
              "995          False     False         False            False         False  \n",
              "996          False     False         False            False         False  \n",
              "997          False     False         False            False         False  \n",
              "998          False     False         False            False         False  \n",
              "999          False     False         False            False         False  "
            ]
          },
          "execution_count": 5,
          "metadata": {},
          "output_type": "execute_result"
        }
      ],
      "source": [
        "data.describe()\n",
        "data.tail()"
      ]
    },
    {
      "cell_type": "code",
      "execution_count": 40,
      "id": "dc524f89",
      "metadata": {},
      "outputs": [
        {
          "name": "stdout",
          "output_type": "stream",
          "text": [
            "<class 'pandas.core.frame.DataFrame'>\n",
            "RangeIndex: 1000 entries, 0 to 999\n",
            "Data columns (total 15 columns):\n",
            " #   Column           Non-Null Count  Dtype \n",
            "---  ------           --------------  ----- \n",
            " 0   CommentId        1000 non-null   object\n",
            " 1   VideoId          1000 non-null   object\n",
            " 2   Text             1000 non-null   object\n",
            " 3   IsToxic          1000 non-null   bool  \n",
            " 4   IsAbusive        1000 non-null   bool  \n",
            " 5   IsThreat         1000 non-null   bool  \n",
            " 6   IsProvocative    1000 non-null   bool  \n",
            " 7   IsObscene        1000 non-null   bool  \n",
            " 8   IsHatespeech     1000 non-null   bool  \n",
            " 9   IsRacist         1000 non-null   bool  \n",
            " 10  IsNationalist    1000 non-null   bool  \n",
            " 11  IsSexist         1000 non-null   bool  \n",
            " 12  IsHomophobic     1000 non-null   bool  \n",
            " 13  IsReligiousHate  1000 non-null   bool  \n",
            " 14  IsRadicalism     1000 non-null   bool  \n",
            "dtypes: bool(12), object(3)\n",
            "memory usage: 35.3+ KB\n"
          ]
        }
      ],
      "source": [
        "data.info(1)"
      ]
    },
    {
      "cell_type": "code",
      "execution_count": 41,
      "id": "fe86a79b",
      "metadata": {},
      "outputs": [
        {
          "data": {
            "text/plain": [
              "CommentId          0\n",
              "VideoId            0\n",
              "Text               0\n",
              "IsToxic            0\n",
              "IsAbusive          0\n",
              "IsThreat           0\n",
              "IsProvocative      0\n",
              "IsObscene          0\n",
              "IsHatespeech       0\n",
              "IsRacist           0\n",
              "IsNationalist      0\n",
              "IsSexist           0\n",
              "IsHomophobic       0\n",
              "IsReligiousHate    0\n",
              "IsRadicalism       0\n",
              "dtype: int64"
            ]
          },
          "execution_count": 41,
          "metadata": {},
          "output_type": "execute_result"
        }
      ],
      "source": [
        "data.isnull().sum(axis = 0)"
      ]
    },
    {
      "cell_type": "code",
      "execution_count": 42,
      "id": "0d120991",
      "metadata": {},
      "outputs": [
        {
          "data": {
            "text/plain": [
              "0"
            ]
          },
          "execution_count": 42,
          "metadata": {},
          "output_type": "execute_result"
        }
      ],
      "source": [
        "data_duplicadas = data[data.duplicated()]\n",
        "len(data_duplicadas)"
      ]
    },
    {
      "cell_type": "code",
      "execution_count": 46,
      "id": "b3ef0673",
      "metadata": {},
      "outputs": [
        {
          "data": {
            "text/html": [
              "<div>\n",
              "<style scoped>\n",
              "    .dataframe tbody tr th:only-of-type {\n",
              "        vertical-align: middle;\n",
              "    }\n",
              "\n",
              "    .dataframe tbody tr th {\n",
              "        vertical-align: top;\n",
              "    }\n",
              "\n",
              "    .dataframe thead th {\n",
              "        text-align: right;\n",
              "    }\n",
              "</style>\n",
              "<table border=\"1\" class=\"dataframe\">\n",
              "  <thead>\n",
              "    <tr style=\"text-align: right;\">\n",
              "      <th></th>\n",
              "      <th>IsToxic</th>\n",
              "      <th>IsAbusive</th>\n",
              "      <th>IsThreat</th>\n",
              "      <th>IsProvocative</th>\n",
              "      <th>IsObscene</th>\n",
              "      <th>IsHatespeech</th>\n",
              "      <th>IsRacist</th>\n",
              "      <th>IsNationalist</th>\n",
              "      <th>IsSexist</th>\n",
              "      <th>IsHomophobic</th>\n",
              "      <th>IsReligiousHate</th>\n",
              "      <th>IsRadicalism</th>\n",
              "    </tr>\n",
              "  </thead>\n",
              "  <tbody>\n",
              "    <tr>\n",
              "      <th>IsToxic</th>\n",
              "      <td>1.000000</td>\n",
              "      <td>0.797086</td>\n",
              "      <td>0.158048</td>\n",
              "      <td>0.472718</td>\n",
              "      <td>0.359707</td>\n",
              "      <td>0.431774</td>\n",
              "      <td>0.407869</td>\n",
              "      <td>0.096908</td>\n",
              "      <td>0.034142</td>\n",
              "      <td>NaN</td>\n",
              "      <td>0.118928</td>\n",
              "      <td>NaN</td>\n",
              "    </tr>\n",
              "    <tr>\n",
              "      <th>IsAbusive</th>\n",
              "      <td>0.797086</td>\n",
              "      <td>1.000000</td>\n",
              "      <td>0.198282</td>\n",
              "      <td>0.593057</td>\n",
              "      <td>0.451277</td>\n",
              "      <td>-0.119603</td>\n",
              "      <td>-0.121005</td>\n",
              "      <td>-0.042843</td>\n",
              "      <td>0.042833</td>\n",
              "      <td>NaN</td>\n",
              "      <td>-0.042970</td>\n",
              "      <td>NaN</td>\n",
              "    </tr>\n",
              "    <tr>\n",
              "      <th>IsThreat</th>\n",
              "      <td>0.158048</td>\n",
              "      <td>0.198282</td>\n",
              "      <td>1.000000</td>\n",
              "      <td>0.106626</td>\n",
              "      <td>-0.048820</td>\n",
              "      <td>0.002063</td>\n",
              "      <td>-0.034268</td>\n",
              "      <td>-0.013152</td>\n",
              "      <td>-0.004634</td>\n",
              "      <td>NaN</td>\n",
              "      <td>0.111962</td>\n",
              "      <td>NaN</td>\n",
              "    </tr>\n",
              "    <tr>\n",
              "      <th>IsProvocative</th>\n",
              "      <td>0.472718</td>\n",
              "      <td>0.593057</td>\n",
              "      <td>0.106626</td>\n",
              "      <td>1.000000</td>\n",
              "      <td>0.089788</td>\n",
              "      <td>-0.072719</td>\n",
              "      <td>-0.075072</td>\n",
              "      <td>-0.008796</td>\n",
              "      <td>-0.013860</td>\n",
              "      <td>NaN</td>\n",
              "      <td>0.001699</td>\n",
              "      <td>NaN</td>\n",
              "    </tr>\n",
              "    <tr>\n",
              "      <th>IsObscene</th>\n",
              "      <td>0.359707</td>\n",
              "      <td>0.451277</td>\n",
              "      <td>-0.048820</td>\n",
              "      <td>0.089788</td>\n",
              "      <td>1.000000</td>\n",
              "      <td>-0.027061</td>\n",
              "      <td>-0.035277</td>\n",
              "      <td>-0.029934</td>\n",
              "      <td>0.094916</td>\n",
              "      <td>NaN</td>\n",
              "      <td>-0.036736</td>\n",
              "      <td>NaN</td>\n",
              "    </tr>\n",
              "    <tr>\n",
              "      <th>IsHatespeech</th>\n",
              "      <td>0.431774</td>\n",
              "      <td>-0.119603</td>\n",
              "      <td>0.002063</td>\n",
              "      <td>-0.072719</td>\n",
              "      <td>-0.027061</td>\n",
              "      <td>1.000000</td>\n",
              "      <td>0.944637</td>\n",
              "      <td>0.224442</td>\n",
              "      <td>0.079074</td>\n",
              "      <td>NaN</td>\n",
              "      <td>0.275440</td>\n",
              "      <td>NaN</td>\n",
              "    </tr>\n",
              "    <tr>\n",
              "      <th>IsRacist</th>\n",
              "      <td>0.407869</td>\n",
              "      <td>-0.121005</td>\n",
              "      <td>-0.034268</td>\n",
              "      <td>-0.075072</td>\n",
              "      <td>-0.035277</td>\n",
              "      <td>0.944637</td>\n",
              "      <td>1.000000</td>\n",
              "      <td>0.237595</td>\n",
              "      <td>-0.011958</td>\n",
              "      <td>NaN</td>\n",
              "      <td>0.013885</td>\n",
              "      <td>NaN</td>\n",
              "    </tr>\n",
              "    <tr>\n",
              "      <th>IsNationalist</th>\n",
              "      <td>0.096908</td>\n",
              "      <td>-0.042843</td>\n",
              "      <td>-0.013152</td>\n",
              "      <td>-0.008796</td>\n",
              "      <td>-0.029934</td>\n",
              "      <td>0.224442</td>\n",
              "      <td>0.237595</td>\n",
              "      <td>1.000000</td>\n",
              "      <td>-0.002841</td>\n",
              "      <td>NaN</td>\n",
              "      <td>-0.009897</td>\n",
              "      <td>NaN</td>\n",
              "    </tr>\n",
              "    <tr>\n",
              "      <th>IsSexist</th>\n",
              "      <td>0.034142</td>\n",
              "      <td>0.042833</td>\n",
              "      <td>-0.004634</td>\n",
              "      <td>-0.013860</td>\n",
              "      <td>0.094916</td>\n",
              "      <td>0.079074</td>\n",
              "      <td>-0.011958</td>\n",
              "      <td>-0.002841</td>\n",
              "      <td>1.000000</td>\n",
              "      <td>NaN</td>\n",
              "      <td>-0.003487</td>\n",
              "      <td>NaN</td>\n",
              "    </tr>\n",
              "    <tr>\n",
              "      <th>IsHomophobic</th>\n",
              "      <td>NaN</td>\n",
              "      <td>NaN</td>\n",
              "      <td>NaN</td>\n",
              "      <td>NaN</td>\n",
              "      <td>NaN</td>\n",
              "      <td>NaN</td>\n",
              "      <td>NaN</td>\n",
              "      <td>NaN</td>\n",
              "      <td>NaN</td>\n",
              "      <td>NaN</td>\n",
              "      <td>NaN</td>\n",
              "      <td>NaN</td>\n",
              "    </tr>\n",
              "    <tr>\n",
              "      <th>IsReligiousHate</th>\n",
              "      <td>0.118928</td>\n",
              "      <td>-0.042970</td>\n",
              "      <td>0.111962</td>\n",
              "      <td>0.001699</td>\n",
              "      <td>-0.036736</td>\n",
              "      <td>0.275440</td>\n",
              "      <td>0.013885</td>\n",
              "      <td>-0.009897</td>\n",
              "      <td>-0.003487</td>\n",
              "      <td>NaN</td>\n",
              "      <td>1.000000</td>\n",
              "      <td>NaN</td>\n",
              "    </tr>\n",
              "    <tr>\n",
              "      <th>IsRadicalism</th>\n",
              "      <td>NaN</td>\n",
              "      <td>NaN</td>\n",
              "      <td>NaN</td>\n",
              "      <td>NaN</td>\n",
              "      <td>NaN</td>\n",
              "      <td>NaN</td>\n",
              "      <td>NaN</td>\n",
              "      <td>NaN</td>\n",
              "      <td>NaN</td>\n",
              "      <td>NaN</td>\n",
              "      <td>NaN</td>\n",
              "      <td>NaN</td>\n",
              "    </tr>\n",
              "  </tbody>\n",
              "</table>\n",
              "</div>"
            ],
            "text/plain": [
              "                  IsToxic  IsAbusive  IsThreat  IsProvocative  IsObscene  \\\n",
              "IsToxic          1.000000   0.797086  0.158048       0.472718   0.359707   \n",
              "IsAbusive        0.797086   1.000000  0.198282       0.593057   0.451277   \n",
              "IsThreat         0.158048   0.198282  1.000000       0.106626  -0.048820   \n",
              "IsProvocative    0.472718   0.593057  0.106626       1.000000   0.089788   \n",
              "IsObscene        0.359707   0.451277 -0.048820       0.089788   1.000000   \n",
              "IsHatespeech     0.431774  -0.119603  0.002063      -0.072719  -0.027061   \n",
              "IsRacist         0.407869  -0.121005 -0.034268      -0.075072  -0.035277   \n",
              "IsNationalist    0.096908  -0.042843 -0.013152      -0.008796  -0.029934   \n",
              "IsSexist         0.034142   0.042833 -0.004634      -0.013860   0.094916   \n",
              "IsHomophobic          NaN        NaN       NaN            NaN        NaN   \n",
              "IsReligiousHate  0.118928  -0.042970  0.111962       0.001699  -0.036736   \n",
              "IsRadicalism          NaN        NaN       NaN            NaN        NaN   \n",
              "\n",
              "                 IsHatespeech  IsRacist  IsNationalist  IsSexist  \\\n",
              "IsToxic              0.431774  0.407869       0.096908  0.034142   \n",
              "IsAbusive           -0.119603 -0.121005      -0.042843  0.042833   \n",
              "IsThreat             0.002063 -0.034268      -0.013152 -0.004634   \n",
              "IsProvocative       -0.072719 -0.075072      -0.008796 -0.013860   \n",
              "IsObscene           -0.027061 -0.035277      -0.029934  0.094916   \n",
              "IsHatespeech         1.000000  0.944637       0.224442  0.079074   \n",
              "IsRacist             0.944637  1.000000       0.237595 -0.011958   \n",
              "IsNationalist        0.224442  0.237595       1.000000 -0.002841   \n",
              "IsSexist             0.079074 -0.011958      -0.002841  1.000000   \n",
              "IsHomophobic              NaN       NaN            NaN       NaN   \n",
              "IsReligiousHate      0.275440  0.013885      -0.009897 -0.003487   \n",
              "IsRadicalism              NaN       NaN            NaN       NaN   \n",
              "\n",
              "                 IsHomophobic  IsReligiousHate  IsRadicalism  \n",
              "IsToxic                   NaN         0.118928           NaN  \n",
              "IsAbusive                 NaN        -0.042970           NaN  \n",
              "IsThreat                  NaN         0.111962           NaN  \n",
              "IsProvocative             NaN         0.001699           NaN  \n",
              "IsObscene                 NaN        -0.036736           NaN  \n",
              "IsHatespeech              NaN         0.275440           NaN  \n",
              "IsRacist                  NaN         0.013885           NaN  \n",
              "IsNationalist             NaN        -0.009897           NaN  \n",
              "IsSexist                  NaN        -0.003487           NaN  \n",
              "IsHomophobic              NaN              NaN           NaN  \n",
              "IsReligiousHate           NaN         1.000000           NaN  \n",
              "IsRadicalism              NaN              NaN           NaN  "
            ]
          },
          "execution_count": 46,
          "metadata": {},
          "output_type": "execute_result"
        }
      ],
      "source": [
        "data.corr()"
      ]
    },
    {
      "cell_type": "code",
      "execution_count": 53,
      "id": "1bc4f375",
      "metadata": {},
      "outputs": [
        {
          "data": {
            "text/plain": [
              "<AxesSubplot: >"
            ]
          },
          "execution_count": 53,
          "metadata": {},
          "output_type": "execute_result"
        },
        {
          "data": {
            "image/png": "[encoded data removed]",
            "text/plain": [
              "<Figure size 1100x900 with 2 Axes>"
            ]
          },
          "metadata": {},
          "output_type": "display_data"
        }
      ],
      "source": [
        "mask = np.triu(np.ones_like(data.corr(), dtype=bool))\n",
        "\n",
        "# Configuramos el matplotlib\n",
        "f, ax = plt.subplots(figsize=(11, 9))\n",
        "\n",
        "# Ploteamos el heatmap\n",
        "sns.heatmap(data.corr(), mask=mask, vmax=1., vmin=-1., center=0,\n",
        "            square=True, linewidths=.5, cbar_kws={\"shrink\": .5}, annot=True)"
      ]
    },
    {
      "cell_type": "code",
      "execution_count": 62,
      "id": "85d71361",
      "metadata": {},
      "outputs": [
        {
          "data": {
            "image/png": "[encoded data removed]",
            "text/plain": [
              "<Figure size 640x480 with 1 Axes>"
            ]
          },
          "metadata": {},
          "output_type": "display_data"
        }
      ],
      "source": [
        "sns.boxplot(data=data)\n",
        "plt.xticks(rotation=90)\n",
        "plt.show()"
      ]
    },
    {
      "cell_type": "code",
      "execution_count": null,
      "id": "c1cf544b",
      "metadata": {},
      "outputs": [],
      "source": []
    },
    {
      "cell_type": "markdown",
      "id": "341ee9f9",
      "metadata": {},
      "source": [
        "Los datos están un poco equilibrados.\n",
        "Ahora tenemos que limpiar el texto y vectorizarlo."
      ]
    },
    {
      "cell_type": "markdown",
      "id": "18974a39",
      "metadata": {},
      "source": [
        "## 3. Limpieza de datos"
      ]
    },
    {
      "cell_type": "code",
      "execution_count": 6,
      "id": "80c6980a",
      "metadata": {},
      "outputs": [
        {
          "name": "stderr",
          "output_type": "stream",
          "text": [
            "[nltk_data] Downloading package stopwords to /home/victor/nltk_data...\n",
            "[nltk_data]   Package stopwords is already up-to-date!\n"
          ]
        }
      ],
      "source": [
        "import nltk\n",
        "nltk.download('stopwords')\n",
        "from nltk.corpus import stopwords"
      ]
    },
    {
      "cell_type": "code",
      "execution_count": 7,
      "id": "154e00d7",
      "metadata": {},
      "outputs": [
        {
          "name": "stderr",
          "output_type": "stream",
          "text": [
            "[nltk_data] Downloading package wordnet to /home/victor/nltk_data...\n",
            "[nltk_data]   Package wordnet is already up-to-date!\n",
            "[nltk_data] Downloading package omw-1.4 to /home/victor/nltk_data...\n",
            "[nltk_data]   Package omw-1.4 is already up-to-date!\n"
          ]
        },
        {
          "data": {
            "text/plain": [
              "True"
            ]
          },
          "execution_count": 7,
          "metadata": {},
          "output_type": "execute_result"
        }
      ],
      "source": [
        "import string\n",
        "lemmatize=nltk.WordNetLemmatizer()\n",
        "nltk.download('wordnet')\n",
        "nltk.download('omw-1.4')"
      ]
    },
    {
      "cell_type": "code",
      "execution_count": 8,
      "id": "7432a8c8",
      "metadata": {},
      "outputs": [],
      "source": [
        "newData = data"
      ]
    },
    {
      "cell_type": "markdown",
      "id": "0f9d97f8",
      "metadata": {},
      "source": [
        "Borra espacios xa0"
      ]
    },
    {
      "cell_type": "code",
      "execution_count": 9,
      "id": "74770803",
      "metadata": {},
      "outputs": [],
      "source": [
        "newData['Text'] = newData['Text'].replace(u'\\xa0', u' ')"
      ]
    },
    {
      "cell_type": "markdown",
      "id": "2dca5146",
      "metadata": {},
      "source": [
        "Borra espacios en blanco"
      ]
    },
    {
      "cell_type": "code",
      "execution_count": 10,
      "id": "11c4953b",
      "metadata": {},
      "outputs": [],
      "source": [
        "newData['Text'] = newData['Text'].str.strip()"
      ]
    },
    {
      "cell_type": "markdown",
      "id": "7a482ec4",
      "metadata": {},
      "source": [
        "Una función que elimina toda la puntuación, todas las palabras de parada, lematiza las palabras y devuelve una lista de tokens del texto limpio"
      ]
    },
    {
      "cell_type": "code",
      "execution_count": 11,
      "id": "1b5e29e4",
      "metadata": {},
      "outputs": [],
      "source": [
        "def text_process(mess):\n",
        "    \"\"\"\n",
        "    Toma una cadena de texto y realiza lo siguiente:\n",
        "    1. Elimina todos los signos de puntuación\n",
        "    2. Elimina todas las palabras de parada\n",
        "    3. Lematizar las palabras\n",
        "    4. Devuelve una lista del texto depurado\n",
        "    \"\"\"\n",
        "    # Comprobar los caracteres para ver si están en la puntuación\n",
        "    nopunc = [char for char in mess if char not in string.punctuation]\n",
        "\n",
        "    # Vuelve a unir los caracteres para formar la cadena.\n",
        "    nopunc = ''.join(nopunc)\n",
        "    # Lemmatizar las palabras\n",
        "    nopunc = [lemmatize.lemmatize(word) for word in nopunc.split()]\n",
        "    # Vuelve a unir los caracteres para formar la cadena.\n",
        "    nopunc = ' '.join(nopunc)\n",
        "    \n",
        "    # Ahora sólo hay que eliminar las palabras de parada\n",
        "    return [word.lower() for word in nopunc.split() if word.lower() not in stopwords.words('english')]"
      ]
    },
    {
      "cell_type": "code",
      "execution_count": 12,
      "id": "20a5dcd7",
      "metadata": {},
      "outputs": [
        {
          "data": {
            "text/plain": [
              "['hello', 'name', 'anabel', 'working', 'work', 'using', 'rock', 'rock']"
            ]
          },
          "execution_count": 12,
          "metadata": {},
          "output_type": "execute_result"
        }
      ],
      "source": [
        "text_process('Hello my name is Anabel!! and i am working on this work using rocks and rock')"
      ]
    },
    {
      "cell_type": "markdown",
      "id": "2de709f2",
      "metadata": {},
      "source": [
        "Utilizar aplicar para cada texto en los datos"
      ]
    },
    {
      "cell_type": "code",
      "execution_count": 13,
      "id": "528b7b89",
      "metadata": {},
      "outputs": [
        {
          "data": {
            "text/plain": [
              "0    [people, would, take, step, back, make, case, ...\n",
              "1    [law, enforcement, trained, shoot, apprehend, ...\n",
              "2    [dont, reckon, black, life, matter, banner, he...\n",
              "3    [large, number, people, like, police, officer,...\n",
              "4    [arab, dude, absolutely, right, shot, 6, extra...\n",
              "Name: Text, dtype: object"
            ]
          },
          "execution_count": 13,
          "metadata": {},
          "output_type": "execute_result"
        }
      ],
      "source": [
        "newData['Text'].head(5).apply(text_process)"
      ]
    },
    {
      "cell_type": "markdown",
      "id": "2b3ad77a",
      "metadata": {},
      "source": [
        "## 4. Vectorización de los datos"
      ]
    },
    {
      "cell_type": "code",
      "execution_count": 14,
      "id": "671e44e7",
      "metadata": {},
      "outputs": [],
      "source": [
        "new_Data = []\n",
        "df = pd.DataFrame(new_Data)"
      ]
    },
    {
      "cell_type": "code",
      "execution_count": 15,
      "id": "7825ab7f",
      "metadata": {},
      "outputs": [],
      "source": [
        "df['CommentId'] = newData['CommentId']\n",
        "df['VideoId'] = newData['VideoId']\n",
        "df['Text'] = newData['Text']\n",
        "df['IsToxic'] = newData['IsToxic']"
      ]
    },
    {
      "cell_type": "code",
      "execution_count": 16,
      "id": "7d38178d",
      "metadata": {},
      "outputs": [
        {
          "data": {
            "text/html": [
              "<div>\n",
              "<style scoped>\n",
              "    .dataframe tbody tr th:only-of-type {\n",
              "        vertical-align: middle;\n",
              "    }\n",
              "\n",
              "    .dataframe tbody tr th {\n",
              "        vertical-align: top;\n",
              "    }\n",
              "\n",
              "    .dataframe thead th {\n",
              "        text-align: right;\n",
              "    }\n",
              "</style>\n",
              "<table border=\"1\" class=\"dataframe\">\n",
              "  <thead>\n",
              "    <tr style=\"text-align: right;\">\n",
              "      <th></th>\n",
              "      <th>CommentId</th>\n",
              "      <th>VideoId</th>\n",
              "      <th>Text</th>\n",
              "      <th>IsToxic</th>\n",
              "    </tr>\n",
              "  </thead>\n",
              "  <tbody>\n",
              "    <tr>\n",
              "      <th>0</th>\n",
              "      <td>Ugg2KwwX0V8-aXgCoAEC</td>\n",
              "      <td>04kJtp6pVXI</td>\n",
              "      <td>If only people would just take a step back and...</td>\n",
              "      <td>False</td>\n",
              "    </tr>\n",
              "    <tr>\n",
              "      <th>1</th>\n",
              "      <td>Ugg2s5AzSPioEXgCoAEC</td>\n",
              "      <td>04kJtp6pVXI</td>\n",
              "      <td>Law enforcement is not trained to shoot to app...</td>\n",
              "      <td>True</td>\n",
              "    </tr>\n",
              "    <tr>\n",
              "      <th>2</th>\n",
              "      <td>Ugg3dWTOxryFfHgCoAEC</td>\n",
              "      <td>04kJtp6pVXI</td>\n",
              "      <td>Dont you reckon them 'black lives matter' bann...</td>\n",
              "      <td>True</td>\n",
              "    </tr>\n",
              "    <tr>\n",
              "      <th>3</th>\n",
              "      <td>Ugg7Gd006w1MPngCoAEC</td>\n",
              "      <td>04kJtp6pVXI</td>\n",
              "      <td>There are a very large number of people who do...</td>\n",
              "      <td>False</td>\n",
              "    </tr>\n",
              "    <tr>\n",
              "      <th>4</th>\n",
              "      <td>Ugg8FfTbbNF8IngCoAEC</td>\n",
              "      <td>04kJtp6pVXI</td>\n",
              "      <td>The Arab dude is absolutely right, he should h...</td>\n",
              "      <td>False</td>\n",
              "    </tr>\n",
              "  </tbody>\n",
              "</table>\n",
              "</div>"
            ],
            "text/plain": [
              "              CommentId      VideoId  \\\n",
              "0  Ugg2KwwX0V8-aXgCoAEC  04kJtp6pVXI   \n",
              "1  Ugg2s5AzSPioEXgCoAEC  04kJtp6pVXI   \n",
              "2  Ugg3dWTOxryFfHgCoAEC  04kJtp6pVXI   \n",
              "3  Ugg7Gd006w1MPngCoAEC  04kJtp6pVXI   \n",
              "4  Ugg8FfTbbNF8IngCoAEC  04kJtp6pVXI   \n",
              "\n",
              "                                                Text  IsToxic  \n",
              "0  If only people would just take a step back and...    False  \n",
              "1  Law enforcement is not trained to shoot to app...     True  \n",
              "2  Dont you reckon them 'black lives matter' bann...     True  \n",
              "3  There are a very large number of people who do...    False  \n",
              "4  The Arab dude is absolutely right, he should h...    False  "
            ]
          },
          "execution_count": 16,
          "metadata": {},
          "output_type": "execute_result"
        }
      ],
      "source": [
        "df.head()"
      ]
    },
    {
      "cell_type": "code",
      "execution_count": 17,
      "id": "46889268",
      "metadata": {},
      "outputs": [],
      "source": [
        "from sklearn.feature_extraction.text import CountVectorizer"
      ]
    },
    {
      "cell_type": "code",
      "execution_count": 18,
      "id": "fadbac49",
      "metadata": {},
      "outputs": [
        {
          "name": "stdout",
          "output_type": "stream",
          "text": [
            "4386\n"
          ]
        }
      ],
      "source": [
        "bow_transformer = CountVectorizer(analyzer=text_process).fit(df['Text'])\n",
        "\n",
        "# Imprimir el número total de palabras del vocabulario\n",
        "print(len(bow_transformer.vocabulary_))"
      ]
    },
    {
      "cell_type": "code",
      "execution_count": 19,
      "id": "149fad65",
      "metadata": {},
      "outputs": [
        {
          "name": "stdout",
          "output_type": "stream",
          "text": [
            "There are a very large number of people who do not like police officers. They are called Criminals and its the reason we have police officers. The fact that Criminals do not like police officers is a testament to the good work that police officers do in protecting the public. When our children or our family are in danger, we do not hessitate to call for help, and we call the Police. Its about time people stopped complaining and started to give the Police some respect for the hard work and dedication that often requires them to put their lives on the line, to serve the public.\n"
          ]
        }
      ],
      "source": [
        "message4 = df['Text'][3]\n",
        "print(message4)"
      ]
    },
    {
      "cell_type": "code",
      "execution_count": 20,
      "id": "21ade944",
      "metadata": {},
      "outputs": [
        {
          "name": "stdout",
          "output_type": "stream",
          "text": [
            "  (0, 641)\t2\n",
            "  (0, 642)\t1\n",
            "  (0, 713)\t1\n",
            "  (0, 820)\t1\n",
            "  (0, 961)\t2\n",
            "  (0, 1001)\t1\n",
            "  (0, 1039)\t1\n",
            "  (0, 1430)\t1\n",
            "  (0, 1450)\t1\n",
            "  (0, 1674)\t1\n",
            "  (0, 1694)\t1\n",
            "  (0, 1781)\t1\n",
            "  (0, 1816)\t1\n",
            "  (0, 1829)\t1\n",
            "  (0, 2216)\t1\n",
            "  (0, 2277)\t1\n",
            "  (0, 2283)\t2\n",
            "  (0, 2290)\t1\n",
            "  (0, 2681)\t1\n",
            "  (0, 2707)\t4\n",
            "  (0, 2710)\t1\n",
            "  (0, 2830)\t2\n",
            "  (0, 2902)\t6\n",
            "  (0, 3027)\t1\n",
            "  (0, 3053)\t2\n",
            "  (0, 3081)\t1\n",
            "  (0, 3165)\t1\n",
            "  (0, 3246)\t1\n",
            "  (0, 3256)\t1\n",
            "  (0, 3443)\t1\n",
            "  (0, 3664)\t1\n",
            "  (0, 3711)\t1\n",
            "  (0, 3861)\t1\n",
            "  (0, 3936)\t1\n",
            "  (0, 4291)\t2\n",
            "(1, 4386)\n"
          ]
        }
      ],
      "source": [
        "bow4 = bow_transformer.transform([message4])\n",
        "print(bow4)\n",
        "print(bow4.shape)"
      ]
    },
    {
      "cell_type": "code",
      "execution_count": 21,
      "id": "a14a0d28",
      "metadata": {},
      "outputs": [
        {
          "name": "stdout",
          "output_type": "stream",
          "text": [
            "police\n",
            "officer\n"
          ]
        }
      ],
      "source": [
        "print(bow_transformer.get_feature_names_out()[2902])\n",
        "print(bow_transformer.get_feature_names_out()[2707])"
      ]
    },
    {
      "cell_type": "code",
      "execution_count": 22,
      "id": "262e6ba9",
      "metadata": {},
      "outputs": [],
      "source": [
        "text_bow = bow_transformer.transform(df['Text'])"
      ]
    },
    {
      "cell_type": "code",
      "execution_count": 23,
      "id": "f0ddab7d",
      "metadata": {},
      "outputs": [
        {
          "name": "stdout",
          "output_type": "stream",
          "text": [
            "Forma de la matriz dispersa:  (1000, 4386)\n",
            "Cantidad de ocurrencias no nulas:  15856\n"
          ]
        }
      ],
      "source": [
        "print('Forma de la matriz dispersa: ', text_bow.shape)\n",
        "print('Cantidad de ocurrencias no nulas: ', text_bow.nnz)"
      ]
    },
    {
      "cell_type": "markdown",
      "id": "b9f93d64",
      "metadata": {},
      "source": [
        "Ahora utilizaremos el TF-IDF para dar peso a cada palabra en los comentarios"
      ]
    },
    {
      "cell_type": "markdown",
      "id": "c19db95c",
      "metadata": {},
      "source": [
        "TF(t) = (Número de veces que aparece el término t en un documento) / (Número total de términos en el documento). \n",
        "\n",
        "IDF(t) = log_e(Número total de documentos / Número de documentos con el término t en él)."
      ]
    },
    {
      "cell_type": "code",
      "execution_count": 24,
      "id": "ee854898",
      "metadata": {},
      "outputs": [
        {
          "name": "stdout",
          "output_type": "stream",
          "text": [
            "  (0, 4291)\t0.2120470967470687\n",
            "  (0, 3936)\t0.08369391736037236\n",
            "  (0, 3861)\t0.1617147922778925\n",
            "  (0, 3711)\t0.12564438321929247\n",
            "  (0, 3664)\t0.11976432641897239\n",
            "  (0, 3443)\t0.13363811260110242\n",
            "  (0, 3256)\t0.11511075341292092\n",
            "  (0, 3246)\t0.15262758723850595\n",
            "  (0, 3165)\t0.10901622794005865\n",
            "  (0, 3081)\t0.10338381791641837\n",
            "  (0, 3053)\t0.23620686595889043\n",
            "  (0, 3027)\t0.1411790628409497\n",
            "  (0, 2902)\t0.41530956114947426\n",
            "  (0, 2830)\t0.12173186855109545\n",
            "  (0, 2710)\t0.14618011265623532\n",
            "  (0, 2707)\t0.32686048257534106\n",
            "  (0, 2681)\t0.12564438321929247\n",
            "  (0, 2290)\t0.13064543303457812\n",
            "  (0, 2283)\t0.14104111419376966\n",
            "  (0, 2277)\t0.08869496717565799\n",
            "  (0, 2216)\t0.14618011265623532\n",
            "  (0, 1829)\t0.1617147922778925\n",
            "  (0, 1816)\t0.12564438321929247\n",
            "  (0, 1781)\t0.11810343297944521\n",
            "  (0, 1694)\t0.0924389507876739\n",
            "  (0, 1674)\t0.11247102295580497\n",
            "  (0, 1450)\t0.11375204619529704\n",
            "  (0, 1430)\t0.09348154831840144\n",
            "  (0, 1039)\t0.1617147922778925\n",
            "  (0, 1001)\t0.15262758723850595\n",
            "  (0, 961)\t0.3052551744770119\n",
            "  (0, 820)\t0.1617147922778925\n",
            "  (0, 713)\t0.12155822799519155\n",
            "  (0, 642)\t0.12564438321929247\n",
            "  (0, 641)\t0.2084592935946304\n"
          ]
        }
      ],
      "source": [
        "from sklearn.feature_extraction.text import TfidfTransformer\n",
        "\n",
        "tfidf_transformer = TfidfTransformer().fit(text_bow)\n",
        "tfidf4 = tfidf_transformer.transform(bow4)\n",
        "print(tfidf4)"
      ]
    },
    {
      "cell_type": "code",
      "execution_count": 25,
      "id": "b504abe4",
      "metadata": {},
      "outputs": [
        {
          "name": "stdout",
          "output_type": "stream",
          "text": [
            "(1000, 4386)\n"
          ]
        }
      ],
      "source": [
        "text_tfidf = tfidf_transformer.transform(text_bow)\n",
        "print(text_tfidf.shape)"
      ]
    },
    {
      "cell_type": "markdown",
      "id": "5daef74b",
      "metadata": {},
      "source": [
        "## 5. Entrenamiento del modelo"
      ]
    },
    {
      "cell_type": "markdown",
      "id": "18b82b98",
      "metadata": {},
      "source": [
        "Divida los datos. El 70% para la formación y el 30% para la prueba."
      ]
    },
    {
      "cell_type": "code",
      "execution_count": 26,
      "id": "a0a00d98",
      "metadata": {},
      "outputs": [
        {
          "name": "stdout",
          "output_type": "stream",
          "text": [
            "800 200 1000\n"
          ]
        }
      ],
      "source": [
        "from sklearn.model_selection import train_test_split\n",
        "\n",
        "text_train, text_test, toxic_train, toxic_test = \\\n",
        "train_test_split(df['Text'], df['IsToxic'], test_size=0.2)\n",
        "\n",
        "print(len(text_train), len(text_test), len(text_train) + len(text_test))"
      ]
    },
    {
      "cell_type": "markdown",
      "id": "c60002c8",
      "metadata": {},
      "source": [
        "Crear una tubería\n",
        "\n",
        "Vamos a utilizar el clasificador Naive Bayes para empezar:"
      ]
    },
    {
      "cell_type": "code",
      "execution_count": 27,
      "id": "e5906c44",
      "metadata": {},
      "outputs": [],
      "source": [
        "from sklearn.pipeline import Pipeline\n",
        "from sklearn.naive_bayes import MultinomialNB\n",
        "from sklearn.metrics import classification_report\n",
        "\n",
        "pipeline = Pipeline([\n",
        "    ('bow', CountVectorizer(analyzer=text_process)),  # cadenas a cuentas enteras de tokens\n",
        "    ('tfidf', TfidfTransformer()),  # integer counts de pesos TF-IDF scores\n",
        "    ('classifier', MultinomialNB()),  # entreno en TF-IDF vectors w/ Naive Bayes classifier\n",
        "])"
      ]
    },
    {
      "cell_type": "code",
      "execution_count": 28,
      "id": "ec5fd727",
      "metadata": {},
      "outputs": [
        {
          "data": {
            "text/html": [
              "<style>#sk-container-id-1 {color: black;background-color: white;}#sk-container-id-1 pre{padding: 0;}#sk-container-id-1 div.sk-toggleable {background-color: white;}#sk-container-id-1 label.sk-toggleable__label {cursor: pointer;display: block;width: 100%;margin-bottom: 0;padding: 0.3em;box-sizing: border-box;text-align: center;}#sk-container-id-1 label.sk-toggleable__label-arrow:before {content: \"▸\";float: left;margin-right: 0.25em;color: #696969;}#sk-container-id-1 label.sk-toggleable__label-arrow:hover:before {color: black;}#sk-container-id-1 div.sk-estimator:hover label.sk-toggleable__label-arrow:before {color: black;}#sk-container-id-1 div.sk-toggleable__content {max-height: 0;max-width: 0;overflow: hidden;text-align: left;background-color: #f0f8ff;}#sk-container-id-1 div.sk-toggleable__content pre {margin: 0.2em;color: black;border-radius: 0.25em;background-color: #f0f8ff;}#sk-container-id-1 input.sk-toggleable__control:checked~div.sk-toggleable__content {max-height: 200px;max-width: 100%;overflow: auto;}#sk-container-id-1 input.sk-toggleable__control:checked~label.sk-toggleable__label-arrow:before {content: \"▾\";}#sk-container-id-1 div.sk-estimator input.sk-toggleable__control:checked~label.sk-toggleable__label {background-color: #d4ebff;}#sk-container-id-1 div.sk-label input.sk-toggleable__control:checked~label.sk-toggleable__label {background-color: #d4ebff;}#sk-container-id-1 input.sk-hidden--visually {border: 0;clip: rect(1px 1px 1px 1px);clip: rect(1px, 1px, 1px, 1px);height: 1px;margin: -1px;overflow: hidden;padding: 0;position: absolute;width: 1px;}#sk-container-id-1 div.sk-estimator {font-family: monospace;background-color: #f0f8ff;border: 1px dotted black;border-radius: 0.25em;box-sizing: border-box;margin-bottom: 0.5em;}#sk-container-id-1 div.sk-estimator:hover {background-color: #d4ebff;}#sk-container-id-1 div.sk-parallel-item::after {content: \"\";width: 100%;border-bottom: 1px solid gray;flex-grow: 1;}#sk-container-id-1 div.sk-label:hover label.sk-toggleable__label {background-color: #d4ebff;}#sk-container-id-1 div.sk-serial::before {content: \"\";position: absolute;border-left: 1px solid gray;box-sizing: border-box;top: 0;bottom: 0;left: 50%;z-index: 0;}#sk-container-id-1 div.sk-serial {display: flex;flex-direction: column;align-items: center;background-color: white;padding-right: 0.2em;padding-left: 0.2em;position: relative;}#sk-container-id-1 div.sk-item {position: relative;z-index: 1;}#sk-container-id-1 div.sk-parallel {display: flex;align-items: stretch;justify-content: center;background-color: white;position: relative;}#sk-container-id-1 div.sk-item::before, #sk-container-id-1 div.sk-parallel-item::before {content: \"\";position: absolute;border-left: 1px solid gray;box-sizing: border-box;top: 0;bottom: 0;left: 50%;z-index: -1;}#sk-container-id-1 div.sk-parallel-item {display: flex;flex-direction: column;z-index: 1;position: relative;background-color: white;}#sk-container-id-1 div.sk-parallel-item:first-child::after {align-self: flex-end;width: 50%;}#sk-container-id-1 div.sk-parallel-item:last-child::after {align-self: flex-start;width: 50%;}#sk-container-id-1 div.sk-parallel-item:only-child::after {width: 0;}#sk-container-id-1 div.sk-dashed-wrapped {border: 1px dashed gray;margin: 0 0.4em 0.5em 0.4em;box-sizing: border-box;padding-bottom: 0.4em;background-color: white;}#sk-container-id-1 div.sk-label label {font-family: monospace;font-weight: bold;display: inline-block;line-height: 1.2em;}#sk-container-id-1 div.sk-label-container {text-align: center;}#sk-container-id-1 div.sk-container {/* jupyter's `normalize.less` sets `[hidden] { display: none; }` but bootstrap.min.css set `[hidden] { display: none !important; }` so we also need the `!important` here to be able to override the default hidden behavior on the sphinx rendered scikit-learn.org. See: https://github.com/scikit-learn/scikit-learn/issues/21755 */display: inline-block !important;position: relative;}#sk-container-id-1 div.sk-text-repr-fallback {display: none;}</style><div id=\"sk-container-id-1\" class=\"sk-top-container\"><div class=\"sk-text-repr-fallback\"><pre>Pipeline(steps=[(&#x27;bow&#x27;,\n",
              "                 CountVectorizer(analyzer=&lt;function text_process at 0x7fe502fc11b0&gt;)),\n",
              "                (&#x27;tfidf&#x27;, TfidfTransformer()),\n",
              "                (&#x27;classifier&#x27;, MultinomialNB())])</pre><b>In a Jupyter environment, please rerun this cell to show the HTML representation or trust the notebook. <br />On GitHub, the HTML representation is unable to render, please try loading this page with nbviewer.org.</b></div><div class=\"sk-container\" hidden><div class=\"sk-item sk-dashed-wrapped\"><div class=\"sk-label-container\"><div class=\"sk-label sk-toggleable\"><input class=\"sk-toggleable__control sk-hidden--visually\" id=\"sk-estimator-id-1\" type=\"checkbox\" ><label for=\"sk-estimator-id-1\" class=\"sk-toggleable__label sk-toggleable__label-arrow\">Pipeline</label><div class=\"sk-toggleable__content\"><pre>Pipeline(steps=[(&#x27;bow&#x27;,\n",
              "                 CountVectorizer(analyzer=&lt;function text_process at 0x7fe502fc11b0&gt;)),\n",
              "                (&#x27;tfidf&#x27;, TfidfTransformer()),\n",
              "                (&#x27;classifier&#x27;, MultinomialNB())])</pre></div></div></div><div class=\"sk-serial\"><div class=\"sk-item\"><div class=\"sk-estimator sk-toggleable\"><input class=\"sk-toggleable__control sk-hidden--visually\" id=\"sk-estimator-id-2\" type=\"checkbox\" ><label for=\"sk-estimator-id-2\" class=\"sk-toggleable__label sk-toggleable__label-arrow\">CountVectorizer</label><div class=\"sk-toggleable__content\"><pre>CountVectorizer(analyzer=&lt;function text_process at 0x7fe502fc11b0&gt;)</pre></div></div></div><div class=\"sk-item\"><div class=\"sk-estimator sk-toggleable\"><input class=\"sk-toggleable__control sk-hidden--visually\" id=\"sk-estimator-id-3\" type=\"checkbox\" ><label for=\"sk-estimator-id-3\" class=\"sk-toggleable__label sk-toggleable__label-arrow\">TfidfTransformer</label><div class=\"sk-toggleable__content\"><pre>TfidfTransformer()</pre></div></div></div><div class=\"sk-item\"><div class=\"sk-estimator sk-toggleable\"><input class=\"sk-toggleable__control sk-hidden--visually\" id=\"sk-estimator-id-4\" type=\"checkbox\" ><label for=\"sk-estimator-id-4\" class=\"sk-toggleable__label sk-toggleable__label-arrow\">MultinomialNB</label><div class=\"sk-toggleable__content\"><pre>MultinomialNB()</pre></div></div></div></div></div></div></div>"
            ],
            "text/plain": [
              "Pipeline(steps=[('bow',\n",
              "                 CountVectorizer(analyzer=<function text_process at 0x7fe502fc11b0>)),\n",
              "                ('tfidf', TfidfTransformer()),\n",
              "                ('classifier', MultinomialNB())])"
            ]
          },
          "execution_count": 28,
          "metadata": {},
          "output_type": "execute_result"
        }
      ],
      "source": [
        "pipeline.fit(text_train,toxic_train)"
      ]
    },
    {
      "cell_type": "code",
      "execution_count": 29,
      "id": "cb516f92",
      "metadata": {},
      "outputs": [],
      "source": [
        "predictions = pipeline.predict(text_test)"
      ]
    },
    {
      "cell_type": "code",
      "execution_count": 30,
      "id": "45b4ebea",
      "metadata": {},
      "outputs": [
        {
          "name": "stdout",
          "output_type": "stream",
          "text": [
            "              precision    recall  f1-score   support\n",
            "\n",
            "       False       0.73      0.65      0.69       120\n",
            "        True       0.55      0.64      0.59        80\n",
            "\n",
            "    accuracy                           0.65       200\n",
            "   macro avg       0.64      0.64      0.64       200\n",
            "weighted avg       0.66      0.65      0.65       200\n",
            "\n"
          ]
        }
      ],
      "source": [
        "print(classification_report(predictions,toxic_test))"
      ]
    },
    {
      "cell_type": "markdown",
      "id": "bea5bb9c",
      "metadata": {},
      "source": [
        "¡no son realmente buenas puntuaciones!"
      ]
    },
    {
      "cell_type": "markdown",
      "id": "f7131297",
      "metadata": {},
      "source": [
        "Probemos con otro clasificador. SVM"
      ]
    },
    {
      "cell_type": "code",
      "execution_count": 31,
      "id": "1d958c88",
      "metadata": {},
      "outputs": [],
      "source": [
        "from sklearn import svm"
      ]
    },
    {
      "cell_type": "code",
      "execution_count": 32,
      "id": "cb24d0f0",
      "metadata": {},
      "outputs": [],
      "source": [
        "pipeline2 = Pipeline([\n",
        "    ('bow', CountVectorizer(analyzer=text_process)),  # cadenas a cuentas enteras de tokens\n",
        "    ('tfidf', TfidfTransformer()),  # recuentos enteros a puntuaciones TF-IDF ponderadas\n",
        "    ('classifier', svm.SVC()),  # entrenar en vectores TF-IDF con SVM\n",
        "])"
      ]
    },
    {
      "cell_type": "code",
      "execution_count": 33,
      "id": "2d32bb92",
      "metadata": {},
      "outputs": [
        {
          "data": {
            "text/html": [
              "<style>#sk-container-id-2 {color: black;background-color: white;}#sk-container-id-2 pre{padding: 0;}#sk-container-id-2 div.sk-toggleable {background-color: white;}#sk-container-id-2 label.sk-toggleable__label {cursor: pointer;display: block;width: 100%;margin-bottom: 0;padding: 0.3em;box-sizing: border-box;text-align: center;}#sk-container-id-2 label.sk-toggleable__label-arrow:before {content: \"▸\";float: left;margin-right: 0.25em;color: #696969;}#sk-container-id-2 label.sk-toggleable__label-arrow:hover:before {color: black;}#sk-container-id-2 div.sk-estimator:hover label.sk-toggleable__label-arrow:before {color: black;}#sk-container-id-2 div.sk-toggleable__content {max-height: 0;max-width: 0;overflow: hidden;text-align: left;background-color: #f0f8ff;}#sk-container-id-2 div.sk-toggleable__content pre {margin: 0.2em;color: black;border-radius: 0.25em;background-color: #f0f8ff;}#sk-container-id-2 input.sk-toggleable__control:checked~div.sk-toggleable__content {max-height: 200px;max-width: 100%;overflow: auto;}#sk-container-id-2 input.sk-toggleable__control:checked~label.sk-toggleable__label-arrow:before {content: \"▾\";}#sk-container-id-2 div.sk-estimator input.sk-toggleable__control:checked~label.sk-toggleable__label {background-color: #d4ebff;}#sk-container-id-2 div.sk-label input.sk-toggleable__control:checked~label.sk-toggleable__label {background-color: #d4ebff;}#sk-container-id-2 input.sk-hidden--visually {border: 0;clip: rect(1px 1px 1px 1px);clip: rect(1px, 1px, 1px, 1px);height: 1px;margin: -1px;overflow: hidden;padding: 0;position: absolute;width: 1px;}#sk-container-id-2 div.sk-estimator {font-family: monospace;background-color: #f0f8ff;border: 1px dotted black;border-radius: 0.25em;box-sizing: border-box;margin-bottom: 0.5em;}#sk-container-id-2 div.sk-estimator:hover {background-color: #d4ebff;}#sk-container-id-2 div.sk-parallel-item::after {content: \"\";width: 100%;border-bottom: 1px solid gray;flex-grow: 1;}#sk-container-id-2 div.sk-label:hover label.sk-toggleable__label {background-color: #d4ebff;}#sk-container-id-2 div.sk-serial::before {content: \"\";position: absolute;border-left: 1px solid gray;box-sizing: border-box;top: 0;bottom: 0;left: 50%;z-index: 0;}#sk-container-id-2 div.sk-serial {display: flex;flex-direction: column;align-items: center;background-color: white;padding-right: 0.2em;padding-left: 0.2em;position: relative;}#sk-container-id-2 div.sk-item {position: relative;z-index: 1;}#sk-container-id-2 div.sk-parallel {display: flex;align-items: stretch;justify-content: center;background-color: white;position: relative;}#sk-container-id-2 div.sk-item::before, #sk-container-id-2 div.sk-parallel-item::before {content: \"\";position: absolute;border-left: 1px solid gray;box-sizing: border-box;top: 0;bottom: 0;left: 50%;z-index: -1;}#sk-container-id-2 div.sk-parallel-item {display: flex;flex-direction: column;z-index: 1;position: relative;background-color: white;}#sk-container-id-2 div.sk-parallel-item:first-child::after {align-self: flex-end;width: 50%;}#sk-container-id-2 div.sk-parallel-item:last-child::after {align-self: flex-start;width: 50%;}#sk-container-id-2 div.sk-parallel-item:only-child::after {width: 0;}#sk-container-id-2 div.sk-dashed-wrapped {border: 1px dashed gray;margin: 0 0.4em 0.5em 0.4em;box-sizing: border-box;padding-bottom: 0.4em;background-color: white;}#sk-container-id-2 div.sk-label label {font-family: monospace;font-weight: bold;display: inline-block;line-height: 1.2em;}#sk-container-id-2 div.sk-label-container {text-align: center;}#sk-container-id-2 div.sk-container {/* jupyter's `normalize.less` sets `[hidden] { display: none; }` but bootstrap.min.css set `[hidden] { display: none !important; }` so we also need the `!important` here to be able to override the default hidden behavior on the sphinx rendered scikit-learn.org. See: https://github.com/scikit-learn/scikit-learn/issues/21755 */display: inline-block !important;position: relative;}#sk-container-id-2 div.sk-text-repr-fallback {display: none;}</style><div id=\"sk-container-id-2\" class=\"sk-top-container\"><div class=\"sk-text-repr-fallback\"><pre>Pipeline(steps=[(&#x27;bow&#x27;,\n",
              "                 CountVectorizer(analyzer=&lt;function text_process at 0x7fe502fc11b0&gt;)),\n",
              "                (&#x27;tfidf&#x27;, TfidfTransformer()), (&#x27;classifier&#x27;, SVC())])</pre><b>In a Jupyter environment, please rerun this cell to show the HTML representation or trust the notebook. <br />On GitHub, the HTML representation is unable to render, please try loading this page with nbviewer.org.</b></div><div class=\"sk-container\" hidden><div class=\"sk-item sk-dashed-wrapped\"><div class=\"sk-label-container\"><div class=\"sk-label sk-toggleable\"><input class=\"sk-toggleable__control sk-hidden--visually\" id=\"sk-estimator-id-5\" type=\"checkbox\" ><label for=\"sk-estimator-id-5\" class=\"sk-toggleable__label sk-toggleable__label-arrow\">Pipeline</label><div class=\"sk-toggleable__content\"><pre>Pipeline(steps=[(&#x27;bow&#x27;,\n",
              "                 CountVectorizer(analyzer=&lt;function text_process at 0x7fe502fc11b0&gt;)),\n",
              "                (&#x27;tfidf&#x27;, TfidfTransformer()), (&#x27;classifier&#x27;, SVC())])</pre></div></div></div><div class=\"sk-serial\"><div class=\"sk-item\"><div class=\"sk-estimator sk-toggleable\"><input class=\"sk-toggleable__control sk-hidden--visually\" id=\"sk-estimator-id-6\" type=\"checkbox\" ><label for=\"sk-estimator-id-6\" class=\"sk-toggleable__label sk-toggleable__label-arrow\">CountVectorizer</label><div class=\"sk-toggleable__content\"><pre>CountVectorizer(analyzer=&lt;function text_process at 0x7fe502fc11b0&gt;)</pre></div></div></div><div class=\"sk-item\"><div class=\"sk-estimator sk-toggleable\"><input class=\"sk-toggleable__control sk-hidden--visually\" id=\"sk-estimator-id-7\" type=\"checkbox\" ><label for=\"sk-estimator-id-7\" class=\"sk-toggleable__label sk-toggleable__label-arrow\">TfidfTransformer</label><div class=\"sk-toggleable__content\"><pre>TfidfTransformer()</pre></div></div></div><div class=\"sk-item\"><div class=\"sk-estimator sk-toggleable\"><input class=\"sk-toggleable__control sk-hidden--visually\" id=\"sk-estimator-id-8\" type=\"checkbox\" ><label for=\"sk-estimator-id-8\" class=\"sk-toggleable__label sk-toggleable__label-arrow\">SVC</label><div class=\"sk-toggleable__content\"><pre>SVC()</pre></div></div></div></div></div></div></div>"
            ],
            "text/plain": [
              "Pipeline(steps=[('bow',\n",
              "                 CountVectorizer(analyzer=<function text_process at 0x7fe502fc11b0>)),\n",
              "                ('tfidf', TfidfTransformer()), ('classifier', SVC())])"
            ]
          },
          "execution_count": 33,
          "metadata": {},
          "output_type": "execute_result"
        }
      ],
      "source": [
        "pipeline2.fit(text_train,toxic_train)"
      ]
    },
    {
      "cell_type": "code",
      "execution_count": 34,
      "id": "56182e96",
      "metadata": {},
      "outputs": [],
      "source": [
        "predictions2 = pipeline2.predict(text_test)"
      ]
    },
    {
      "cell_type": "code",
      "execution_count": 35,
      "id": "ab767b6d",
      "metadata": {},
      "outputs": [
        {
          "name": "stdout",
          "output_type": "stream",
          "text": [
            "              precision    recall  f1-score   support\n",
            "\n",
            "       False       0.80      0.66      0.72       131\n",
            "        True       0.52      0.70      0.59        69\n",
            "\n",
            "    accuracy                           0.67       200\n",
            "   macro avg       0.66      0.68      0.66       200\n",
            "weighted avg       0.70      0.67      0.68       200\n",
            "\n"
          ]
        }
      ],
      "source": [
        "print(classification_report(predictions2,toxic_test))"
      ]
    },
    {
      "cell_type": "markdown",
      "id": "665d38b6",
      "metadata": {},
      "source": [
        "Un poco mejor pero podría ser mejor jaja, Probemos otro"
      ]
    },
    {
      "cell_type": "code",
      "execution_count": 36,
      "id": "4e5c5066",
      "metadata": {},
      "outputs": [
        {
          "name": "stdout",
          "output_type": "stream",
          "text": [
            "              precision    recall  f1-score   support\n",
            "\n",
            "       False       0.64      0.63      0.63       108\n",
            "        True       0.57      0.58      0.57        92\n",
            "\n",
            "    accuracy                           0.60       200\n",
            "   macro avg       0.60      0.60      0.60       200\n",
            "weighted avg       0.61      0.60      0.61       200\n",
            "\n"
          ]
        }
      ],
      "source": [
        "from sklearn.linear_model import SGDClassifier\n",
        "pipeline3 = Pipeline([\n",
        "    ('bow', CountVectorizer(analyzer=text_process)),  # cadenas a cuentas enteras de tokens\n",
        "    ('tfidf', TfidfTransformer()),  # recuentos enteros a puntuaciones TF-IDF ponderadas\n",
        "    ('classifier', SGDClassifier(loss=\"hinge\", max_iter=100)),  # entrenar en vectores TF-IDF con SGD\n",
        "])\n",
        "pipeline3.fit(text_train,toxic_train)\n",
        "predictions3 = pipeline3.predict(text_test)\n",
        "print(classification_report(predictions3,toxic_test))"
      ]
    },
    {
      "cell_type": "code",
      "execution_count": 37,
      "id": "32da1d85",
      "metadata": {},
      "outputs": [
        {
          "name": "stdout",
          "output_type": "stream",
          "text": [
            "              precision    recall  f1-score   support\n",
            "\n",
            "       False       0.64      0.64      0.64       108\n",
            "        True       0.58      0.59      0.58        92\n",
            "\n",
            "    accuracy                           0.61       200\n",
            "   macro avg       0.61      0.61      0.61       200\n",
            "weighted avg       0.62      0.61      0.62       200\n",
            "\n"
          ]
        }
      ],
      "source": [
        "from sklearn import tree\n",
        "pipeline4 = Pipeline([\n",
        "    ('bow', CountVectorizer(analyzer=text_process)),  # cadenas a cuentas enteras de tokens\n",
        "    ('tfidf', TfidfTransformer()),  # recuentos enteros a puntuaciones TF-IDF ponderadas\n",
        "    ('classifier', tree.DecisionTreeClassifier()),  # entrenar en vectores TF-IDF con SGD\n",
        "])\n",
        "pipeline4.fit(text_train,toxic_train)\n",
        "predictions4 = pipeline4.predict(text_test)\n",
        "print(classification_report(predictions4,toxic_test))"
      ]
    },
    {
      "cell_type": "code",
      "execution_count": 38,
      "id": "be0a5402",
      "metadata": {},
      "outputs": [
        {
          "name": "stdout",
          "output_type": "stream",
          "text": [
            "              precision    recall  f1-score   support\n",
            "\n",
            "       False       0.77      0.65      0.70       127\n",
            "        True       0.52      0.66      0.58        73\n",
            "\n",
            "    accuracy                           0.65       200\n",
            "   macro avg       0.64      0.65      0.64       200\n",
            "weighted avg       0.68      0.65      0.66       200\n",
            "\n"
          ]
        }
      ],
      "source": [
        "from sklearn.naive_bayes import BernoulliNB\n",
        "pipeline5 = Pipeline([\n",
        "    ('bow', CountVectorizer(analyzer=text_process)),  # cadenas a cuentas enteras de tokens\n",
        "    ('tfidf', TfidfTransformer()),  # recuentos enteros a puntuaciones TF-IDF ponderadas\n",
        "    ('classifier', BernoulliNB()),  # entrenar en vectores TF-IDF con SGD\n",
        "])\n",
        "pipeline5.fit(text_train,toxic_train)\n",
        "predictions5 = pipeline5.predict(text_test)\n",
        "print(classification_report(predictions5,toxic_test))"
      ]
    },
    {
      "cell_type": "code",
      "execution_count": null,
      "id": "a6eba533",
      "metadata": {},
      "outputs": [],
      "source": []
    }
  ],
  "metadata": {
    "kernelspec": {
      "display_name": "Python 3.10.8 64-bit",
      "language": "python",
      "name": "python3"
    },
    "language_info": {
      "codemirror_mode": {
        "name": "ipython",
        "version": 3
      },
      "file_extension": ".py",
      "mimetype": "text/x-python",
      "name": "python",
      "nbconvert_exporter": "python",
      "pygments_lexer": "ipython3",
      "version": "3.10.8"
    },
    "vscode": {
      "interpreter": {
        "hash": "e7370f93d1d0cde622a1f8e1c04877d8463912d04d973331ad4851f04de6915a"
      }
    }
  },
  "nbformat": 4,
  "nbformat_minor": 5
}
